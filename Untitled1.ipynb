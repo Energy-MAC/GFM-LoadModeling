{
 "cells": [
  {
   "cell_type": "code",
   "execution_count": 2,
   "id": "5c4cbf89-c37e-47ca-ba58-7d448aa6f698",
   "metadata": {},
   "outputs": [],
   "source": [
    "from sympy import *"
   ]
  },
  {
   "cell_type": "code",
   "execution_count": 4,
   "id": "76fba867-97c0-4c9f-a8f1-bdb443833dda",
   "metadata": {},
   "outputs": [],
   "source": [
    "#states\n",
    "i_ds = symbols('i_ds')\n",
    "i_qs = symbols('i_qs')\n",
    "e_q = symbols('e_q')\n",
    "e_d = symbols('e_d')\n",
    "s = symbols('s')\n",
    "B_sh = symbols('B_sh')\n",
    "tau = symbols('tau')\n",
    "var = [i_ds, i_qs, e_q, e_d, s, B_sh, tau]"
   ]
  },
  {
   "cell_type": "code",
   "execution_count": 8,
   "id": "4d4bb86d-aa25-4108-8b28-5c4ccb975f3a",
   "metadata": {},
   "outputs": [],
   "source": [
    "# params\n",
    "V_R = symbols('V_R')\n",
    "V_I = symbols('V_I')\n",
    "I_R = symbols('I_R')\n",
    "I_I = symbols('I_I')\n",
    "X_m = symbols('X_m')\n",
    "X_p = symbols('X_p')\n",
    "X_r = symbols('X_r')\n",
    "R_r = symbols('R_r')"
   ]
  },
  {
   "cell_type": "code",
   "execution_count": 9,
   "id": "5c77e994-f096-4ce6-9fc9-b44d833d0a3b",
   "metadata": {},
   "outputs": [],
   "source": [
    "# eqs\n",
    "eqs = [\n",
    "    -I_R + i_ds - V_I * B_sh,\n",
    "    -I_I + i_qs + V_R * B_sh,\n",
    "    V_R - e_d + X_p * i_qs,\n",
    "    V_I - e_q - X_p * i_ds,\n",
    "    -e_q + X_m * X_m * i_ds / X_r - s * X_r * e_d / R_r,\n",
    "    -e_d - X_m * X_m * i_qs / X_r + s * X_r * e_q / R_r,\n",
    "    tau * (1 - s) - (e_q * i_qs + e_d * i_ds)\n",
    "]"
   ]
  },
  {
   "cell_type": "code",
   "execution_count": 11,
   "id": "e032506f-9a59-4151-acfb-25c6222ed05c",
   "metadata": {},
   "outputs": [],
   "source": [
    "sol = nonlinsolve(eqs, var)"
   ]
  },
  {
   "cell_type": "code",
   "execution_count": 12,
   "id": "34b62584-dda6-433c-8c74-3ffa2b99e99b",
   "metadata": {},
   "outputs": [
    {
     "ename": "TypeError",
     "evalue": "'FiniteSet' object is not subscriptable",
     "output_type": "error",
     "traceback": [
      "\u001b[0;31m---------------------------------------------------------------------------\u001b[0m",
      "\u001b[0;31mTypeError\u001b[0m                                 Traceback (most recent call last)",
      "\u001b[0;32m<ipython-input-12-6ffd1ffb4713>\u001b[0m in \u001b[0;36m<module>\u001b[0;34m\u001b[0m\n\u001b[0;32m----> 1\u001b[0;31m \u001b[0msol\u001b[0m\u001b[0;34m[\u001b[0m\u001b[0;36m0\u001b[0m\u001b[0;34m]\u001b[0m\u001b[0;34m\u001b[0m\u001b[0;34m\u001b[0m\u001b[0m\n\u001b[0m",
      "\u001b[0;31mTypeError\u001b[0m: 'FiniteSet' object is not subscriptable"
     ]
    }
   ],
   "source": [
    "sol[0]"
   ]
  },
  {
   "cell_type": "code",
   "execution_count": 13,
   "id": "f5640d29-c2d3-49d1-b5c4-d036f1d606e3",
   "metadata": {},
   "outputs": [
    {
     "data": {
      "text/latex": [
       "$\\displaystyle \\left\\{\\left( \\frac{I_{I} V_{I} V_{R} X_{m}^{2} X_{p} + I_{I} V_{I} V_{R} X_{p}^{2} X_{r} + I_{R} V_{R}^{2} X_{m}^{2} X_{p} + I_{R} V_{R}^{2} X_{p}^{2} X_{r} + \\frac{V_{I}^{3} X_{m}^{2}}{2} + V_{I}^{3} X_{p} X_{r} + \\frac{V_{I} V_{R}^{2} X_{m}^{2}}{2} + V_{I} V_{R}^{2} X_{p} X_{r} - \\frac{V_{I} \\sqrt{- 4 I_{I}^{2} V_{I}^{2} X_{m}^{4} X_{p}^{2} - 8 I_{I}^{2} V_{I}^{2} X_{m}^{2} X_{p}^{3} X_{r} - 4 I_{I}^{2} V_{I}^{2} X_{p}^{4} X_{r}^{2} - 8 I_{I} I_{R} V_{I} V_{R} X_{m}^{4} X_{p}^{2} - 16 I_{I} I_{R} V_{I} V_{R} X_{m}^{2} X_{p}^{3} X_{r} - 8 I_{I} I_{R} V_{I} V_{R} X_{p}^{4} X_{r}^{2} - 4 I_{R}^{2} V_{R}^{2} X_{m}^{4} X_{p}^{2} - 8 I_{R}^{2} V_{R}^{2} X_{m}^{2} X_{p}^{3} X_{r} - 4 I_{R}^{2} V_{R}^{2} X_{p}^{4} X_{r}^{2} + V_{I}^{4} X_{m}^{4} + 2 V_{I}^{2} V_{R}^{2} X_{m}^{4} + V_{R}^{4} X_{m}^{4}}}{2}}{X_{p} \\left(V_{I}^{2} X_{m}^{2} + V_{I}^{2} X_{p} X_{r} + V_{R}^{2} X_{m}^{2} + V_{R}^{2} X_{p} X_{r}\\right)}, \\  \\frac{I_{I} V_{I}^{2} X_{m}^{2} X_{p} + I_{I} V_{I}^{2} X_{p}^{2} X_{r} + I_{R} V_{I} V_{R} X_{m}^{2} X_{p} + I_{R} V_{I} V_{R} X_{p}^{2} X_{r} - \\frac{V_{I}^{2} V_{R} X_{m}^{2}}{2} - V_{I}^{2} V_{R} X_{p} X_{r} - \\frac{V_{R}^{3} X_{m}^{2}}{2} - V_{R}^{3} X_{p} X_{r} + \\frac{V_{R} \\sqrt{- 4 I_{I}^{2} V_{I}^{2} X_{m}^{4} X_{p}^{2} - 8 I_{I}^{2} V_{I}^{2} X_{m}^{2} X_{p}^{3} X_{r} - 4 I_{I}^{2} V_{I}^{2} X_{p}^{4} X_{r}^{2} - 8 I_{I} I_{R} V_{I} V_{R} X_{m}^{4} X_{p}^{2} - 16 I_{I} I_{R} V_{I} V_{R} X_{m}^{2} X_{p}^{3} X_{r} - 8 I_{I} I_{R} V_{I} V_{R} X_{p}^{4} X_{r}^{2} - 4 I_{R}^{2} V_{R}^{2} X_{m}^{4} X_{p}^{2} - 8 I_{R}^{2} V_{R}^{2} X_{m}^{2} X_{p}^{3} X_{r} - 4 I_{R}^{2} V_{R}^{2} X_{p}^{4} X_{r}^{2} + V_{I}^{4} X_{m}^{4} + 2 V_{I}^{2} V_{R}^{2} X_{m}^{4} + V_{R}^{4} X_{m}^{4}}}{2}}{X_{p} \\left(V_{I}^{2} X_{m}^{2} + V_{I}^{2} X_{p} X_{r} + V_{R}^{2} X_{m}^{2} + V_{R}^{2} X_{p} X_{r}\\right)}, \\  \\frac{- I_{I} V_{I} V_{R} X_{m}^{2} X_{p} - I_{I} V_{I} V_{R} X_{p}^{2} X_{r} - I_{R} V_{R}^{2} X_{m}^{2} X_{p} - I_{R} V_{R}^{2} X_{p}^{2} X_{r} + \\frac{V_{I}^{3} X_{m}^{2}}{2} + \\frac{V_{I} V_{R}^{2} X_{m}^{2}}{2} + \\frac{V_{I} \\sqrt{- 4 I_{I}^{2} V_{I}^{2} X_{m}^{4} X_{p}^{2} - 8 I_{I}^{2} V_{I}^{2} X_{m}^{2} X_{p}^{3} X_{r} - 4 I_{I}^{2} V_{I}^{2} X_{p}^{4} X_{r}^{2} - 8 I_{I} I_{R} V_{I} V_{R} X_{m}^{4} X_{p}^{2} - 16 I_{I} I_{R} V_{I} V_{R} X_{m}^{2} X_{p}^{3} X_{r} - 8 I_{I} I_{R} V_{I} V_{R} X_{p}^{4} X_{r}^{2} - 4 I_{R}^{2} V_{R}^{2} X_{m}^{4} X_{p}^{2} - 8 I_{R}^{2} V_{R}^{2} X_{m}^{2} X_{p}^{3} X_{r} - 4 I_{R}^{2} V_{R}^{2} X_{p}^{4} X_{r}^{2} + V_{I}^{4} X_{m}^{4} + 2 V_{I}^{2} V_{R}^{2} X_{m}^{4} + V_{R}^{4} X_{m}^{4}}}{2}}{V_{I}^{2} X_{m}^{2} + V_{I}^{2} X_{p} X_{r} + V_{R}^{2} X_{m}^{2} + V_{R}^{2} X_{p} X_{r}}, \\  \\frac{I_{I} V_{I}^{2} X_{m}^{2} X_{p} + I_{I} V_{I}^{2} X_{p}^{2} X_{r} + I_{R} V_{I} V_{R} X_{m}^{2} X_{p} + I_{R} V_{I} V_{R} X_{p}^{2} X_{r} + \\frac{V_{I}^{2} V_{R} X_{m}^{2}}{2} + \\frac{V_{R}^{3} X_{m}^{2}}{2} + \\frac{V_{R} \\sqrt{- 4 I_{I}^{2} V_{I}^{2} X_{m}^{4} X_{p}^{2} - 8 I_{I}^{2} V_{I}^{2} X_{m}^{2} X_{p}^{3} X_{r} - 4 I_{I}^{2} V_{I}^{2} X_{p}^{4} X_{r}^{2} - 8 I_{I} I_{R} V_{I} V_{R} X_{m}^{4} X_{p}^{2} - 16 I_{I} I_{R} V_{I} V_{R} X_{m}^{2} X_{p}^{3} X_{r} - 8 I_{I} I_{R} V_{I} V_{R} X_{p}^{4} X_{r}^{2} - 4 I_{R}^{2} V_{R}^{2} X_{m}^{4} X_{p}^{2} - 8 I_{R}^{2} V_{R}^{2} X_{m}^{2} X_{p}^{3} X_{r} - 4 I_{R}^{2} V_{R}^{2} X_{p}^{4} X_{r}^{2} + V_{I}^{4} X_{m}^{4} + 2 V_{I}^{2} V_{R}^{2} X_{m}^{4} + V_{R}^{4} X_{m}^{4}}}{2}}{V_{I}^{2} X_{m}^{2} + V_{I}^{2} X_{p} X_{r} + V_{R}^{2} X_{m}^{2} + V_{R}^{2} X_{p} X_{r}}, \\  \\frac{R_{r} \\left(V_{I}^{2} X_{m}^{2} + V_{R}^{2} X_{m}^{2} - \\sqrt{- 4 I_{I}^{2} V_{I}^{2} X_{m}^{4} X_{p}^{2} - 8 I_{I}^{2} V_{I}^{2} X_{m}^{2} X_{p}^{3} X_{r} - 4 I_{I}^{2} V_{I}^{2} X_{p}^{4} X_{r}^{2} - 8 I_{I} I_{R} V_{I} V_{R} X_{m}^{4} X_{p}^{2} - 16 I_{I} I_{R} V_{I} V_{R} X_{m}^{2} X_{p}^{3} X_{r} - 8 I_{I} I_{R} V_{I} V_{R} X_{p}^{4} X_{r}^{2} - 4 I_{R}^{2} V_{R}^{2} X_{m}^{4} X_{p}^{2} - 8 I_{R}^{2} V_{R}^{2} X_{m}^{2} X_{p}^{3} X_{r} - 4 I_{R}^{2} V_{R}^{2} X_{p}^{4} X_{r}^{2} + V_{I}^{4} X_{m}^{4} + 2 V_{I}^{2} V_{R}^{2} X_{m}^{4} + V_{R}^{4} X_{m}^{4}}\\right)}{2 X_{p}^{2} X_{r}^{2} \\left(I_{I} V_{I} + I_{R} V_{R}\\right)}, \\  \\frac{I_{I} V_{R} X_{m}^{2} X_{p} + I_{I} V_{R} X_{p}^{2} X_{r} - I_{R} V_{I} X_{m}^{2} X_{p} - I_{R} V_{I} X_{p}^{2} X_{r} + \\frac{V_{I}^{2} X_{m}^{2}}{2} + V_{I}^{2} X_{p} X_{r} + \\frac{V_{R}^{2} X_{m}^{2}}{2} + V_{R}^{2} X_{p} X_{r} - \\frac{\\sqrt{- 4 I_{I}^{2} V_{I}^{2} X_{m}^{4} X_{p}^{2} - 8 I_{I}^{2} V_{I}^{2} X_{m}^{2} X_{p}^{3} X_{r} - 4 I_{I}^{2} V_{I}^{2} X_{p}^{4} X_{r}^{2} - 8 I_{I} I_{R} V_{I} V_{R} X_{m}^{4} X_{p}^{2} - 16 I_{I} I_{R} V_{I} V_{R} X_{m}^{2} X_{p}^{3} X_{r} - 8 I_{I} I_{R} V_{I} V_{R} X_{p}^{4} X_{r}^{2} - 4 I_{R}^{2} V_{R}^{2} X_{m}^{4} X_{p}^{2} - 8 I_{R}^{2} V_{R}^{2} X_{m}^{2} X_{p}^{3} X_{r} - 4 I_{R}^{2} V_{R}^{2} X_{p}^{4} X_{r}^{2} + V_{I}^{4} X_{m}^{4} + 2 V_{I}^{2} V_{R}^{2} X_{m}^{4} + V_{R}^{4} X_{m}^{4}}}{2}}{X_{p} \\left(V_{I}^{2} X_{m}^{2} + V_{I}^{2} X_{p} X_{r} + V_{R}^{2} X_{m}^{2} + V_{R}^{2} X_{p} X_{r}\\right)}, \\  - \\frac{R_{r} X_{r}^{2} \\sqrt{- \\left(2 I_{I} V_{I} X_{m}^{2} X_{p} + 2 I_{I} V_{I} X_{p}^{2} X_{r} + 2 I_{R} V_{R} X_{m}^{2} X_{p} + 2 I_{R} V_{R} X_{p}^{2} X_{r} - V_{I}^{2} X_{m}^{2} - V_{R}^{2} X_{m}^{2}\\right) \\left(2 I_{I} V_{I} X_{m}^{2} X_{p} + 2 I_{I} V_{I} X_{p}^{2} X_{r} + 2 I_{R} V_{R} X_{m}^{2} X_{p} + 2 I_{R} V_{R} X_{p}^{2} X_{r} + V_{I}^{2} X_{m}^{2} + V_{R}^{2} X_{m}^{2}\\right)} \\left(I_{I} V_{I} + I_{R} V_{R}\\right)}{2 \\left(I_{I} R_{r}^{2} V_{I} X_{m}^{4} + 2 I_{I} R_{r}^{2} V_{I} X_{m}^{2} X_{p} X_{r} + I_{I} R_{r}^{2} V_{I} X_{p}^{2} X_{r}^{2} + I_{I} V_{I} X_{p}^{2} X_{r}^{4} + I_{R} R_{r}^{2} V_{R} X_{m}^{4} + 2 I_{R} R_{r}^{2} V_{R} X_{m}^{2} X_{p} X_{r} + I_{R} R_{r}^{2} V_{R} X_{p}^{2} X_{r}^{2} + I_{R} V_{R} X_{p}^{2} X_{r}^{4} - R_{r} V_{I}^{2} X_{m}^{2} X_{r}^{2} - R_{r} V_{R}^{2} X_{m}^{2} X_{r}^{2}\\right)} + \\frac{X_{r}^{2} \\left(I_{I} V_{I} + I_{R} V_{R}\\right) \\left(2 I_{I} V_{I} X_{p}^{2} X_{r}^{2} + 2 I_{R} V_{R} X_{p}^{2} X_{r}^{2} - R_{r} V_{I}^{2} X_{m}^{2} - R_{r} V_{R}^{2} X_{m}^{2}\\right)}{2 \\left(I_{I} R_{r}^{2} V_{I} X_{m}^{4} + 2 I_{I} R_{r}^{2} V_{I} X_{m}^{2} X_{p} X_{r} + I_{I} R_{r}^{2} V_{I} X_{p}^{2} X_{r}^{2} + I_{I} V_{I} X_{p}^{2} X_{r}^{4} + I_{R} R_{r}^{2} V_{R} X_{m}^{4} + 2 I_{R} R_{r}^{2} V_{R} X_{m}^{2} X_{p} X_{r} + I_{R} R_{r}^{2} V_{R} X_{p}^{2} X_{r}^{2} + I_{R} V_{R} X_{p}^{2} X_{r}^{4} - R_{r} V_{I}^{2} X_{m}^{2} X_{r}^{2} - R_{r} V_{R}^{2} X_{m}^{2} X_{r}^{2}\\right)}\\right), \\left( \\frac{I_{I} V_{I} V_{R} X_{m}^{2} X_{p} + I_{I} V_{I} V_{R} X_{p}^{2} X_{r} + I_{R} V_{R}^{2} X_{m}^{2} X_{p} + I_{R} V_{R}^{2} X_{p}^{2} X_{r} + \\frac{V_{I}^{3} X_{m}^{2}}{2} + V_{I}^{3} X_{p} X_{r} + \\frac{V_{I} V_{R}^{2} X_{m}^{2}}{2} + V_{I} V_{R}^{2} X_{p} X_{r} + \\frac{V_{I} \\sqrt{- 4 I_{I}^{2} V_{I}^{2} X_{m}^{4} X_{p}^{2} - 8 I_{I}^{2} V_{I}^{2} X_{m}^{2} X_{p}^{3} X_{r} - 4 I_{I}^{2} V_{I}^{2} X_{p}^{4} X_{r}^{2} - 8 I_{I} I_{R} V_{I} V_{R} X_{m}^{4} X_{p}^{2} - 16 I_{I} I_{R} V_{I} V_{R} X_{m}^{2} X_{p}^{3} X_{r} - 8 I_{I} I_{R} V_{I} V_{R} X_{p}^{4} X_{r}^{2} - 4 I_{R}^{2} V_{R}^{2} X_{m}^{4} X_{p}^{2} - 8 I_{R}^{2} V_{R}^{2} X_{m}^{2} X_{p}^{3} X_{r} - 4 I_{R}^{2} V_{R}^{2} X_{p}^{4} X_{r}^{2} + V_{I}^{4} X_{m}^{4} + 2 V_{I}^{2} V_{R}^{2} X_{m}^{4} + V_{R}^{4} X_{m}^{4}}}{2}}{X_{p} \\left(V_{I}^{2} X_{m}^{2} + V_{I}^{2} X_{p} X_{r} + V_{R}^{2} X_{m}^{2} + V_{R}^{2} X_{p} X_{r}\\right)}, \\  \\frac{I_{I} V_{I}^{2} X_{m}^{2} X_{p} + I_{I} V_{I}^{2} X_{p}^{2} X_{r} + I_{R} V_{I} V_{R} X_{m}^{2} X_{p} + I_{R} V_{I} V_{R} X_{p}^{2} X_{r} - \\frac{V_{I}^{2} V_{R} X_{m}^{2}}{2} - V_{I}^{2} V_{R} X_{p} X_{r} - \\frac{V_{R}^{3} X_{m}^{2}}{2} - V_{R}^{3} X_{p} X_{r} - \\frac{V_{R} \\sqrt{- 4 I_{I}^{2} V_{I}^{2} X_{m}^{4} X_{p}^{2} - 8 I_{I}^{2} V_{I}^{2} X_{m}^{2} X_{p}^{3} X_{r} - 4 I_{I}^{2} V_{I}^{2} X_{p}^{4} X_{r}^{2} - 8 I_{I} I_{R} V_{I} V_{R} X_{m}^{4} X_{p}^{2} - 16 I_{I} I_{R} V_{I} V_{R} X_{m}^{2} X_{p}^{3} X_{r} - 8 I_{I} I_{R} V_{I} V_{R} X_{p}^{4} X_{r}^{2} - 4 I_{R}^{2} V_{R}^{2} X_{m}^{4} X_{p}^{2} - 8 I_{R}^{2} V_{R}^{2} X_{m}^{2} X_{p}^{3} X_{r} - 4 I_{R}^{2} V_{R}^{2} X_{p}^{4} X_{r}^{2} + V_{I}^{4} X_{m}^{4} + 2 V_{I}^{2} V_{R}^{2} X_{m}^{4} + V_{R}^{4} X_{m}^{4}}}{2}}{X_{p} \\left(V_{I}^{2} X_{m}^{2} + V_{I}^{2} X_{p} X_{r} + V_{R}^{2} X_{m}^{2} + V_{R}^{2} X_{p} X_{r}\\right)}, \\  \\frac{- I_{I} V_{I} V_{R} X_{m}^{2} X_{p} - I_{I} V_{I} V_{R} X_{p}^{2} X_{r} - I_{R} V_{R}^{2} X_{m}^{2} X_{p} - I_{R} V_{R}^{2} X_{p}^{2} X_{r} + \\frac{V_{I}^{3} X_{m}^{2}}{2} + \\frac{V_{I} V_{R}^{2} X_{m}^{2}}{2} - \\frac{V_{I} \\sqrt{- 4 I_{I}^{2} V_{I}^{2} X_{m}^{4} X_{p}^{2} - 8 I_{I}^{2} V_{I}^{2} X_{m}^{2} X_{p}^{3} X_{r} - 4 I_{I}^{2} V_{I}^{2} X_{p}^{4} X_{r}^{2} - 8 I_{I} I_{R} V_{I} V_{R} X_{m}^{4} X_{p}^{2} - 16 I_{I} I_{R} V_{I} V_{R} X_{m}^{2} X_{p}^{3} X_{r} - 8 I_{I} I_{R} V_{I} V_{R} X_{p}^{4} X_{r}^{2} - 4 I_{R}^{2} V_{R}^{2} X_{m}^{4} X_{p}^{2} - 8 I_{R}^{2} V_{R}^{2} X_{m}^{2} X_{p}^{3} X_{r} - 4 I_{R}^{2} V_{R}^{2} X_{p}^{4} X_{r}^{2} + V_{I}^{4} X_{m}^{4} + 2 V_{I}^{2} V_{R}^{2} X_{m}^{4} + V_{R}^{4} X_{m}^{4}}}{2}}{V_{I}^{2} X_{m}^{2} + V_{I}^{2} X_{p} X_{r} + V_{R}^{2} X_{m}^{2} + V_{R}^{2} X_{p} X_{r}}, \\  \\frac{I_{I} V_{I}^{2} X_{m}^{2} X_{p} + I_{I} V_{I}^{2} X_{p}^{2} X_{r} + I_{R} V_{I} V_{R} X_{m}^{2} X_{p} + I_{R} V_{I} V_{R} X_{p}^{2} X_{r} + \\frac{V_{I}^{2} V_{R} X_{m}^{2}}{2} + \\frac{V_{R}^{3} X_{m}^{2}}{2} - \\frac{V_{R} \\sqrt{- 4 I_{I}^{2} V_{I}^{2} X_{m}^{4} X_{p}^{2} - 8 I_{I}^{2} V_{I}^{2} X_{m}^{2} X_{p}^{3} X_{r} - 4 I_{I}^{2} V_{I}^{2} X_{p}^{4} X_{r}^{2} - 8 I_{I} I_{R} V_{I} V_{R} X_{m}^{4} X_{p}^{2} - 16 I_{I} I_{R} V_{I} V_{R} X_{m}^{2} X_{p}^{3} X_{r} - 8 I_{I} I_{R} V_{I} V_{R} X_{p}^{4} X_{r}^{2} - 4 I_{R}^{2} V_{R}^{2} X_{m}^{4} X_{p}^{2} - 8 I_{R}^{2} V_{R}^{2} X_{m}^{2} X_{p}^{3} X_{r} - 4 I_{R}^{2} V_{R}^{2} X_{p}^{4} X_{r}^{2} + V_{I}^{4} X_{m}^{4} + 2 V_{I}^{2} V_{R}^{2} X_{m}^{4} + V_{R}^{4} X_{m}^{4}}}{2}}{V_{I}^{2} X_{m}^{2} + V_{I}^{2} X_{p} X_{r} + V_{R}^{2} X_{m}^{2} + V_{R}^{2} X_{p} X_{r}}, \\  \\frac{R_{r} \\left(V_{I}^{2} X_{m}^{2} + V_{R}^{2} X_{m}^{2} + \\sqrt{- 4 I_{I}^{2} V_{I}^{2} X_{m}^{4} X_{p}^{2} - 8 I_{I}^{2} V_{I}^{2} X_{m}^{2} X_{p}^{3} X_{r} - 4 I_{I}^{2} V_{I}^{2} X_{p}^{4} X_{r}^{2} - 8 I_{I} I_{R} V_{I} V_{R} X_{m}^{4} X_{p}^{2} - 16 I_{I} I_{R} V_{I} V_{R} X_{m}^{2} X_{p}^{3} X_{r} - 8 I_{I} I_{R} V_{I} V_{R} X_{p}^{4} X_{r}^{2} - 4 I_{R}^{2} V_{R}^{2} X_{m}^{4} X_{p}^{2} - 8 I_{R}^{2} V_{R}^{2} X_{m}^{2} X_{p}^{3} X_{r} - 4 I_{R}^{2} V_{R}^{2} X_{p}^{4} X_{r}^{2} + V_{I}^{4} X_{m}^{4} + 2 V_{I}^{2} V_{R}^{2} X_{m}^{4} + V_{R}^{4} X_{m}^{4}}\\right)}{2 X_{p}^{2} X_{r}^{2} \\left(I_{I} V_{I} + I_{R} V_{R}\\right)}, \\  \\frac{I_{I} V_{R} X_{m}^{2} X_{p} + I_{I} V_{R} X_{p}^{2} X_{r} - I_{R} V_{I} X_{m}^{2} X_{p} - I_{R} V_{I} X_{p}^{2} X_{r} + \\frac{V_{I}^{2} X_{m}^{2}}{2} + V_{I}^{2} X_{p} X_{r} + \\frac{V_{R}^{2} X_{m}^{2}}{2} + V_{R}^{2} X_{p} X_{r} + \\frac{\\sqrt{- 4 I_{I}^{2} V_{I}^{2} X_{m}^{4} X_{p}^{2} - 8 I_{I}^{2} V_{I}^{2} X_{m}^{2} X_{p}^{3} X_{r} - 4 I_{I}^{2} V_{I}^{2} X_{p}^{4} X_{r}^{2} - 8 I_{I} I_{R} V_{I} V_{R} X_{m}^{4} X_{p}^{2} - 16 I_{I} I_{R} V_{I} V_{R} X_{m}^{2} X_{p}^{3} X_{r} - 8 I_{I} I_{R} V_{I} V_{R} X_{p}^{4} X_{r}^{2} - 4 I_{R}^{2} V_{R}^{2} X_{m}^{4} X_{p}^{2} - 8 I_{R}^{2} V_{R}^{2} X_{m}^{2} X_{p}^{3} X_{r} - 4 I_{R}^{2} V_{R}^{2} X_{p}^{4} X_{r}^{2} + V_{I}^{4} X_{m}^{4} + 2 V_{I}^{2} V_{R}^{2} X_{m}^{4} + V_{R}^{4} X_{m}^{4}}}{2}}{X_{p} \\left(V_{I}^{2} X_{m}^{2} + V_{I}^{2} X_{p} X_{r} + V_{R}^{2} X_{m}^{2} + V_{R}^{2} X_{p} X_{r}\\right)}, \\  \\frac{R_{r} X_{r}^{2} \\sqrt{- \\left(2 I_{I} V_{I} X_{m}^{2} X_{p} + 2 I_{I} V_{I} X_{p}^{2} X_{r} + 2 I_{R} V_{R} X_{m}^{2} X_{p} + 2 I_{R} V_{R} X_{p}^{2} X_{r} - V_{I}^{2} X_{m}^{2} - V_{R}^{2} X_{m}^{2}\\right) \\left(2 I_{I} V_{I} X_{m}^{2} X_{p} + 2 I_{I} V_{I} X_{p}^{2} X_{r} + 2 I_{R} V_{R} X_{m}^{2} X_{p} + 2 I_{R} V_{R} X_{p}^{2} X_{r} + V_{I}^{2} X_{m}^{2} + V_{R}^{2} X_{m}^{2}\\right)} \\left(I_{I} V_{I} + I_{R} V_{R}\\right)}{2 \\left(I_{I} R_{r}^{2} V_{I} X_{m}^{4} + 2 I_{I} R_{r}^{2} V_{I} X_{m}^{2} X_{p} X_{r} + I_{I} R_{r}^{2} V_{I} X_{p}^{2} X_{r}^{2} + I_{I} V_{I} X_{p}^{2} X_{r}^{4} + I_{R} R_{r}^{2} V_{R} X_{m}^{4} + 2 I_{R} R_{r}^{2} V_{R} X_{m}^{2} X_{p} X_{r} + I_{R} R_{r}^{2} V_{R} X_{p}^{2} X_{r}^{2} + I_{R} V_{R} X_{p}^{2} X_{r}^{4} - R_{r} V_{I}^{2} X_{m}^{2} X_{r}^{2} - R_{r} V_{R}^{2} X_{m}^{2} X_{r}^{2}\\right)} + \\frac{X_{r}^{2} \\left(I_{I} V_{I} + I_{R} V_{R}\\right) \\left(2 I_{I} V_{I} X_{p}^{2} X_{r}^{2} + 2 I_{R} V_{R} X_{p}^{2} X_{r}^{2} - R_{r} V_{I}^{2} X_{m}^{2} - R_{r} V_{R}^{2} X_{m}^{2}\\right)}{2 \\left(I_{I} R_{r}^{2} V_{I} X_{m}^{4} + 2 I_{I} R_{r}^{2} V_{I} X_{m}^{2} X_{p} X_{r} + I_{I} R_{r}^{2} V_{I} X_{p}^{2} X_{r}^{2} + I_{I} V_{I} X_{p}^{2} X_{r}^{4} + I_{R} R_{r}^{2} V_{R} X_{m}^{4} + 2 I_{R} R_{r}^{2} V_{R} X_{m}^{2} X_{p} X_{r} + I_{R} R_{r}^{2} V_{R} X_{p}^{2} X_{r}^{2} + I_{R} V_{R} X_{p}^{2} X_{r}^{4} - R_{r} V_{I}^{2} X_{m}^{2} X_{r}^{2} - R_{r} V_{R}^{2} X_{m}^{2} X_{r}^{2}\\right)}\\right)\\right\\}$"
      ],
      "text/plain": [
       "FiniteSet(((I_I*V_I*V_R*X_m**2*X_p + I_I*V_I*V_R*X_p**2*X_r + I_R*V_R**2*X_m**2*X_p + I_R*V_R**2*X_p**2*X_r + V_I**3*X_m**2/2 + V_I**3*X_p*X_r + V_I*V_R**2*X_m**2/2 + V_I*V_R**2*X_p*X_r + V_I*sqrt(-4*I_I**2*V_I**2*X_m**4*X_p**2 - 8*I_I**2*V_I**2*X_m**2*X_p**3*X_r - 4*I_I**2*V_I**2*X_p**4*X_r**2 - 8*I_I*I_R*V_I*V_R*X_m**4*X_p**2 - 16*I_I*I_R*V_I*V_R*X_m**2*X_p**3*X_r - 8*I_I*I_R*V_I*V_R*X_p**4*X_r**2 - 4*I_R**2*V_R**2*X_m**4*X_p**2 - 8*I_R**2*V_R**2*X_m**2*X_p**3*X_r - 4*I_R**2*V_R**2*X_p**4*X_r**2 + V_I**4*X_m**4 + 2*V_I**2*V_R**2*X_m**4 + V_R**4*X_m**4)/2)/(X_p*(V_I**2*X_m**2 + V_I**2*X_p*X_r + V_R**2*X_m**2 + V_R**2*X_p*X_r)), (I_I*V_I**2*X_m**2*X_p + I_I*V_I**2*X_p**2*X_r + I_R*V_I*V_R*X_m**2*X_p + I_R*V_I*V_R*X_p**2*X_r - V_I**2*V_R*X_m**2/2 - V_I**2*V_R*X_p*X_r - V_R**3*X_m**2/2 - V_R**3*X_p*X_r - V_R*sqrt(-4*I_I**2*V_I**2*X_m**4*X_p**2 - 8*I_I**2*V_I**2*X_m**2*X_p**3*X_r - 4*I_I**2*V_I**2*X_p**4*X_r**2 - 8*I_I*I_R*V_I*V_R*X_m**4*X_p**2 - 16*I_I*I_R*V_I*V_R*X_m**2*X_p**3*X_r - 8*I_I*I_R*V_I*V_R*X_p**4*X_r**2 - 4*I_R**2*V_R**2*X_m**4*X_p**2 - 8*I_R**2*V_R**2*X_m**2*X_p**3*X_r - 4*I_R**2*V_R**2*X_p**4*X_r**2 + V_I**4*X_m**4 + 2*V_I**2*V_R**2*X_m**4 + V_R**4*X_m**4)/2)/(X_p*(V_I**2*X_m**2 + V_I**2*X_p*X_r + V_R**2*X_m**2 + V_R**2*X_p*X_r)), (-I_I*V_I*V_R*X_m**2*X_p - I_I*V_I*V_R*X_p**2*X_r - I_R*V_R**2*X_m**2*X_p - I_R*V_R**2*X_p**2*X_r + V_I**3*X_m**2/2 + V_I*V_R**2*X_m**2/2 - V_I*sqrt(-4*I_I**2*V_I**2*X_m**4*X_p**2 - 8*I_I**2*V_I**2*X_m**2*X_p**3*X_r - 4*I_I**2*V_I**2*X_p**4*X_r**2 - 8*I_I*I_R*V_I*V_R*X_m**4*X_p**2 - 16*I_I*I_R*V_I*V_R*X_m**2*X_p**3*X_r - 8*I_I*I_R*V_I*V_R*X_p**4*X_r**2 - 4*I_R**2*V_R**2*X_m**4*X_p**2 - 8*I_R**2*V_R**2*X_m**2*X_p**3*X_r - 4*I_R**2*V_R**2*X_p**4*X_r**2 + V_I**4*X_m**4 + 2*V_I**2*V_R**2*X_m**4 + V_R**4*X_m**4)/2)/(V_I**2*X_m**2 + V_I**2*X_p*X_r + V_R**2*X_m**2 + V_R**2*X_p*X_r), (I_I*V_I**2*X_m**2*X_p + I_I*V_I**2*X_p**2*X_r + I_R*V_I*V_R*X_m**2*X_p + I_R*V_I*V_R*X_p**2*X_r + V_I**2*V_R*X_m**2/2 + V_R**3*X_m**2/2 - V_R*sqrt(-4*I_I**2*V_I**2*X_m**4*X_p**2 - 8*I_I**2*V_I**2*X_m**2*X_p**3*X_r - 4*I_I**2*V_I**2*X_p**4*X_r**2 - 8*I_I*I_R*V_I*V_R*X_m**4*X_p**2 - 16*I_I*I_R*V_I*V_R*X_m**2*X_p**3*X_r - 8*I_I*I_R*V_I*V_R*X_p**4*X_r**2 - 4*I_R**2*V_R**2*X_m**4*X_p**2 - 8*I_R**2*V_R**2*X_m**2*X_p**3*X_r - 4*I_R**2*V_R**2*X_p**4*X_r**2 + V_I**4*X_m**4 + 2*V_I**2*V_R**2*X_m**4 + V_R**4*X_m**4)/2)/(V_I**2*X_m**2 + V_I**2*X_p*X_r + V_R**2*X_m**2 + V_R**2*X_p*X_r), R_r*(V_I**2*X_m**2 + V_R**2*X_m**2 + sqrt(-4*I_I**2*V_I**2*X_m**4*X_p**2 - 8*I_I**2*V_I**2*X_m**2*X_p**3*X_r - 4*I_I**2*V_I**2*X_p**4*X_r**2 - 8*I_I*I_R*V_I*V_R*X_m**4*X_p**2 - 16*I_I*I_R*V_I*V_R*X_m**2*X_p**3*X_r - 8*I_I*I_R*V_I*V_R*X_p**4*X_r**2 - 4*I_R**2*V_R**2*X_m**4*X_p**2 - 8*I_R**2*V_R**2*X_m**2*X_p**3*X_r - 4*I_R**2*V_R**2*X_p**4*X_r**2 + V_I**4*X_m**4 + 2*V_I**2*V_R**2*X_m**4 + V_R**4*X_m**4))/(2*X_p**2*X_r**2*(I_I*V_I + I_R*V_R)), (I_I*V_R*X_m**2*X_p + I_I*V_R*X_p**2*X_r - I_R*V_I*X_m**2*X_p - I_R*V_I*X_p**2*X_r + V_I**2*X_m**2/2 + V_I**2*X_p*X_r + V_R**2*X_m**2/2 + V_R**2*X_p*X_r + sqrt(-4*I_I**2*V_I**2*X_m**4*X_p**2 - 8*I_I**2*V_I**2*X_m**2*X_p**3*X_r - 4*I_I**2*V_I**2*X_p**4*X_r**2 - 8*I_I*I_R*V_I*V_R*X_m**4*X_p**2 - 16*I_I*I_R*V_I*V_R*X_m**2*X_p**3*X_r - 8*I_I*I_R*V_I*V_R*X_p**4*X_r**2 - 4*I_R**2*V_R**2*X_m**4*X_p**2 - 8*I_R**2*V_R**2*X_m**2*X_p**3*X_r - 4*I_R**2*V_R**2*X_p**4*X_r**2 + V_I**4*X_m**4 + 2*V_I**2*V_R**2*X_m**4 + V_R**4*X_m**4)/2)/(X_p*(V_I**2*X_m**2 + V_I**2*X_p*X_r + V_R**2*X_m**2 + V_R**2*X_p*X_r)), R_r*X_r**2*sqrt(-(2*I_I*V_I*X_m**2*X_p + 2*I_I*V_I*X_p**2*X_r + 2*I_R*V_R*X_m**2*X_p + 2*I_R*V_R*X_p**2*X_r - V_I**2*X_m**2 - V_R**2*X_m**2)*(2*I_I*V_I*X_m**2*X_p + 2*I_I*V_I*X_p**2*X_r + 2*I_R*V_R*X_m**2*X_p + 2*I_R*V_R*X_p**2*X_r + V_I**2*X_m**2 + V_R**2*X_m**2))*(I_I*V_I + I_R*V_R)/(2*(I_I*R_r**2*V_I*X_m**4 + 2*I_I*R_r**2*V_I*X_m**2*X_p*X_r + I_I*R_r**2*V_I*X_p**2*X_r**2 + I_I*V_I*X_p**2*X_r**4 + I_R*R_r**2*V_R*X_m**4 + 2*I_R*R_r**2*V_R*X_m**2*X_p*X_r + I_R*R_r**2*V_R*X_p**2*X_r**2 + I_R*V_R*X_p**2*X_r**4 - R_r*V_I**2*X_m**2*X_r**2 - R_r*V_R**2*X_m**2*X_r**2)) + X_r**2*(I_I*V_I + I_R*V_R)*(2*I_I*V_I*X_p**2*X_r**2 + 2*I_R*V_R*X_p**2*X_r**2 - R_r*V_I**2*X_m**2 - R_r*V_R**2*X_m**2)/(2*(I_I*R_r**2*V_I*X_m**4 + 2*I_I*R_r**2*V_I*X_m**2*X_p*X_r + I_I*R_r**2*V_I*X_p**2*X_r**2 + I_I*V_I*X_p**2*X_r**4 + I_R*R_r**2*V_R*X_m**4 + 2*I_R*R_r**2*V_R*X_m**2*X_p*X_r + I_R*R_r**2*V_R*X_p**2*X_r**2 + I_R*V_R*X_p**2*X_r**4 - R_r*V_I**2*X_m**2*X_r**2 - R_r*V_R**2*X_m**2*X_r**2))), ((I_I*V_I*V_R*X_m**2*X_p + I_I*V_I*V_R*X_p**2*X_r + I_R*V_R**2*X_m**2*X_p + I_R*V_R**2*X_p**2*X_r + V_I**3*X_m**2/2 + V_I**3*X_p*X_r + V_I*V_R**2*X_m**2/2 + V_I*V_R**2*X_p*X_r - V_I*sqrt(-4*I_I**2*V_I**2*X_m**4*X_p**2 - 8*I_I**2*V_I**2*X_m**2*X_p**3*X_r - 4*I_I**2*V_I**2*X_p**4*X_r**2 - 8*I_I*I_R*V_I*V_R*X_m**4*X_p**2 - 16*I_I*I_R*V_I*V_R*X_m**2*X_p**3*X_r - 8*I_I*I_R*V_I*V_R*X_p**4*X_r**2 - 4*I_R**2*V_R**2*X_m**4*X_p**2 - 8*I_R**2*V_R**2*X_m**2*X_p**3*X_r - 4*I_R**2*V_R**2*X_p**4*X_r**2 + V_I**4*X_m**4 + 2*V_I**2*V_R**2*X_m**4 + V_R**4*X_m**4)/2)/(X_p*(V_I**2*X_m**2 + V_I**2*X_p*X_r + V_R**2*X_m**2 + V_R**2*X_p*X_r)), (I_I*V_I**2*X_m**2*X_p + I_I*V_I**2*X_p**2*X_r + I_R*V_I*V_R*X_m**2*X_p + I_R*V_I*V_R*X_p**2*X_r - V_I**2*V_R*X_m**2/2 - V_I**2*V_R*X_p*X_r - V_R**3*X_m**2/2 - V_R**3*X_p*X_r + V_R*sqrt(-4*I_I**2*V_I**2*X_m**4*X_p**2 - 8*I_I**2*V_I**2*X_m**2*X_p**3*X_r - 4*I_I**2*V_I**2*X_p**4*X_r**2 - 8*I_I*I_R*V_I*V_R*X_m**4*X_p**2 - 16*I_I*I_R*V_I*V_R*X_m**2*X_p**3*X_r - 8*I_I*I_R*V_I*V_R*X_p**4*X_r**2 - 4*I_R**2*V_R**2*X_m**4*X_p**2 - 8*I_R**2*V_R**2*X_m**2*X_p**3*X_r - 4*I_R**2*V_R**2*X_p**4*X_r**2 + V_I**4*X_m**4 + 2*V_I**2*V_R**2*X_m**4 + V_R**4*X_m**4)/2)/(X_p*(V_I**2*X_m**2 + V_I**2*X_p*X_r + V_R**2*X_m**2 + V_R**2*X_p*X_r)), (-I_I*V_I*V_R*X_m**2*X_p - I_I*V_I*V_R*X_p**2*X_r - I_R*V_R**2*X_m**2*X_p - I_R*V_R**2*X_p**2*X_r + V_I**3*X_m**2/2 + V_I*V_R**2*X_m**2/2 + V_I*sqrt(-4*I_I**2*V_I**2*X_m**4*X_p**2 - 8*I_I**2*V_I**2*X_m**2*X_p**3*X_r - 4*I_I**2*V_I**2*X_p**4*X_r**2 - 8*I_I*I_R*V_I*V_R*X_m**4*X_p**2 - 16*I_I*I_R*V_I*V_R*X_m**2*X_p**3*X_r - 8*I_I*I_R*V_I*V_R*X_p**4*X_r**2 - 4*I_R**2*V_R**2*X_m**4*X_p**2 - 8*I_R**2*V_R**2*X_m**2*X_p**3*X_r - 4*I_R**2*V_R**2*X_p**4*X_r**2 + V_I**4*X_m**4 + 2*V_I**2*V_R**2*X_m**4 + V_R**4*X_m**4)/2)/(V_I**2*X_m**2 + V_I**2*X_p*X_r + V_R**2*X_m**2 + V_R**2*X_p*X_r), (I_I*V_I**2*X_m**2*X_p + I_I*V_I**2*X_p**2*X_r + I_R*V_I*V_R*X_m**2*X_p + I_R*V_I*V_R*X_p**2*X_r + V_I**2*V_R*X_m**2/2 + V_R**3*X_m**2/2 + V_R*sqrt(-4*I_I**2*V_I**2*X_m**4*X_p**2 - 8*I_I**2*V_I**2*X_m**2*X_p**3*X_r - 4*I_I**2*V_I**2*X_p**4*X_r**2 - 8*I_I*I_R*V_I*V_R*X_m**4*X_p**2 - 16*I_I*I_R*V_I*V_R*X_m**2*X_p**3*X_r - 8*I_I*I_R*V_I*V_R*X_p**4*X_r**2 - 4*I_R**2*V_R**2*X_m**4*X_p**2 - 8*I_R**2*V_R**2*X_m**2*X_p**3*X_r - 4*I_R**2*V_R**2*X_p**4*X_r**2 + V_I**4*X_m**4 + 2*V_I**2*V_R**2*X_m**4 + V_R**4*X_m**4)/2)/(V_I**2*X_m**2 + V_I**2*X_p*X_r + V_R**2*X_m**2 + V_R**2*X_p*X_r), R_r*(V_I**2*X_m**2 + V_R**2*X_m**2 - sqrt(-4*I_I**2*V_I**2*X_m**4*X_p**2 - 8*I_I**2*V_I**2*X_m**2*X_p**3*X_r - 4*I_I**2*V_I**2*X_p**4*X_r**2 - 8*I_I*I_R*V_I*V_R*X_m**4*X_p**2 - 16*I_I*I_R*V_I*V_R*X_m**2*X_p**3*X_r - 8*I_I*I_R*V_I*V_R*X_p**4*X_r**2 - 4*I_R**2*V_R**2*X_m**4*X_p**2 - 8*I_R**2*V_R**2*X_m**2*X_p**3*X_r - 4*I_R**2*V_R**2*X_p**4*X_r**2 + V_I**4*X_m**4 + 2*V_I**2*V_R**2*X_m**4 + V_R**4*X_m**4))/(2*X_p**2*X_r**2*(I_I*V_I + I_R*V_R)), (I_I*V_R*X_m**2*X_p + I_I*V_R*X_p**2*X_r - I_R*V_I*X_m**2*X_p - I_R*V_I*X_p**2*X_r + V_I**2*X_m**2/2 + V_I**2*X_p*X_r + V_R**2*X_m**2/2 + V_R**2*X_p*X_r - sqrt(-4*I_I**2*V_I**2*X_m**4*X_p**2 - 8*I_I**2*V_I**2*X_m**2*X_p**3*X_r - 4*I_I**2*V_I**2*X_p**4*X_r**2 - 8*I_I*I_R*V_I*V_R*X_m**4*X_p**2 - 16*I_I*I_R*V_I*V_R*X_m**2*X_p**3*X_r - 8*I_I*I_R*V_I*V_R*X_p**4*X_r**2 - 4*I_R**2*V_R**2*X_m**4*X_p**2 - 8*I_R**2*V_R**2*X_m**2*X_p**3*X_r - 4*I_R**2*V_R**2*X_p**4*X_r**2 + V_I**4*X_m**4 + 2*V_I**2*V_R**2*X_m**4 + V_R**4*X_m**4)/2)/(X_p*(V_I**2*X_m**2 + V_I**2*X_p*X_r + V_R**2*X_m**2 + V_R**2*X_p*X_r)), -R_r*X_r**2*sqrt(-(2*I_I*V_I*X_m**2*X_p + 2*I_I*V_I*X_p**2*X_r + 2*I_R*V_R*X_m**2*X_p + 2*I_R*V_R*X_p**2*X_r - V_I**2*X_m**2 - V_R**2*X_m**2)*(2*I_I*V_I*X_m**2*X_p + 2*I_I*V_I*X_p**2*X_r + 2*I_R*V_R*X_m**2*X_p + 2*I_R*V_R*X_p**2*X_r + V_I**2*X_m**2 + V_R**2*X_m**2))*(I_I*V_I + I_R*V_R)/(2*(I_I*R_r**2*V_I*X_m**4 + 2*I_I*R_r**2*V_I*X_m**2*X_p*X_r + I_I*R_r**2*V_I*X_p**2*X_r**2 + I_I*V_I*X_p**2*X_r**4 + I_R*R_r**2*V_R*X_m**4 + 2*I_R*R_r**2*V_R*X_m**2*X_p*X_r + I_R*R_r**2*V_R*X_p**2*X_r**2 + I_R*V_R*X_p**2*X_r**4 - R_r*V_I**2*X_m**2*X_r**2 - R_r*V_R**2*X_m**2*X_r**2)) + X_r**2*(I_I*V_I + I_R*V_R)*(2*I_I*V_I*X_p**2*X_r**2 + 2*I_R*V_R*X_p**2*X_r**2 - R_r*V_I**2*X_m**2 - R_r*V_R**2*X_m**2)/(2*(I_I*R_r**2*V_I*X_m**4 + 2*I_I*R_r**2*V_I*X_m**2*X_p*X_r + I_I*R_r**2*V_I*X_p**2*X_r**2 + I_I*V_I*X_p**2*X_r**4 + I_R*R_r**2*V_R*X_m**4 + 2*I_R*R_r**2*V_R*X_m**2*X_p*X_r + I_R*R_r**2*V_R*X_p**2*X_r**2 + I_R*V_R*X_p**2*X_r**4 - R_r*V_I**2*X_m**2*X_r**2 - R_r*V_R**2*X_m**2*X_r**2))))"
      ]
     },
     "execution_count": 13,
     "metadata": {},
     "output_type": "execute_result"
    }
   ],
   "source": [
    "sol"
   ]
  },
  {
   "cell_type": "code",
   "execution_count": null,
   "id": "e953798e-ffac-42a7-86c2-035f720c895d",
   "metadata": {},
   "outputs": [],
   "source": []
  }
 ],
 "metadata": {
  "kernelspec": {
   "display_name": "Python 3",
   "language": "python",
   "name": "python3"
  },
  "language_info": {
   "codemirror_mode": {
    "name": "ipython",
    "version": 3
   },
   "file_extension": ".py",
   "mimetype": "text/x-python",
   "name": "python",
   "nbconvert_exporter": "python",
   "pygments_lexer": "ipython3",
   "version": "3.7.10"
  }
 },
 "nbformat": 4,
 "nbformat_minor": 5
}
