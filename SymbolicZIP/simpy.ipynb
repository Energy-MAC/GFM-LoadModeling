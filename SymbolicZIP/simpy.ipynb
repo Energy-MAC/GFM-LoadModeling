{
 "cells": [
  {
   "cell_type": "code",
   "execution_count": 1,
   "id": "f7844add-9c3f-4a19-884d-02b82bcc55ef",
   "metadata": {},
   "outputs": [],
   "source": [
    "from sympy import *"
   ]
  },
  {
   "cell_type": "code",
   "execution_count": 139,
   "id": "efb407c9-3cb1-4989-ae31-46e161653771",
   "metadata": {},
   "outputs": [],
   "source": [
    "# states constant P\n",
    "V_rL = symbols('V_rL')\n",
    "V_iL = symbols('V_iL')\n",
    "var = [V_rL, V_iL]"
   ]
  },
  {
   "cell_type": "code",
   "execution_count": 140,
   "id": "55c0c061-81d4-4531-8c91-8ffe52accb1b",
   "metadata": {},
   "outputs": [],
   "source": [
    "# params constant P\n",
    "P = symbols('P')\n",
    "Q = symbols('Q')\n",
    "I_R = symbols('I_R')\n",
    "I_I = symbols('I_I')"
   ]
  },
  {
   "cell_type": "code",
   "execution_count": 141,
   "id": "adc19dad-8e24-48d1-83ab-c875c0d1dd7f",
   "metadata": {},
   "outputs": [],
   "source": [
    "eqs = [\n",
    "    V_rL*I_R + V_iL*I_I - P,\n",
    "    V_iL*I_R - V_rL*I_I - 0\n",
    "]"
   ]
  },
  {
   "cell_type": "code",
   "execution_count": 142,
   "id": "680bfa5a-91e9-403c-bef6-94109df87bf2",
   "metadata": {},
   "outputs": [
    {
     "data": {
      "text/latex": [
       "$\\displaystyle \\left\\{\\left( \\frac{I_{R} P}{I_{I}^{2} + I_{R}^{2}}, \\  \\frac{I_{I} P}{I_{I}^{2} + I_{R}^{2}}\\right)\\right\\}$"
      ],
      "text/plain": [
       "FiniteSet((I_R*P/(I_I**2 + I_R**2), I_I*P/(I_I**2 + I_R**2)))"
      ]
     },
     "execution_count": 142,
     "metadata": {},
     "output_type": "execute_result"
    }
   ],
   "source": [
    "nonlinsolve(eqs, var)"
   ]
  },
  {
   "cell_type": "code",
   "execution_count": 143,
   "id": "e299a22f-2740-4a1f-9219-2181759c691f",
   "metadata": {},
   "outputs": [],
   "source": [
    "# states\n",
    "I_r1 = symbols('I_r1')\n",
    "I_i1 = symbols('I_i1')\n",
    "I_r2 = symbols('I_r2')\n",
    "I_i2 = symbols('I_i2')\n",
    "var2 = [V_rL, V_iL, I_r1, I_i1, I_r2, I_i2]"
   ]
  },
  {
   "cell_type": "code",
   "execution_count": 144,
   "id": "7b0b83a7-b334-4a22-a057-ffb94a03f0a4",
   "metadata": {},
   "outputs": [],
   "source": [
    "# params\n",
    "R_L = symbols('R_L')\n",
    "X = symbols('X')\n",
    "V_r1 = symbols('V_r1')\n",
    "V_i1 = symbols('V_i1')"
   ]
  },
  {
   "cell_type": "code",
   "execution_count": 145,
   "id": "5fbe720c-b060-4525-a31f-453748b0ebb6",
   "metadata": {},
   "outputs": [],
   "source": [
    "# Params\n",
    "eqs2 = [\n",
    "    V_rL*I_r1 + V_iL*I_i1 - P,\n",
    "    V_iL*I_r1 - V_rL*I_i1 - 0,\n",
    "    I_r2 - V_rL / R_L,\n",
    "    I_i2 - V_iL / R_L,\n",
    "    I_R - I_r1 - I_r2,\n",
    "    I_I - I_i1 - I_i2,    \n",
    "]"
   ]
  },
  {
   "cell_type": "code",
   "execution_count": 146,
   "id": "84f20191-795c-449e-912c-fc241eb6d126",
   "metadata": {},
   "outputs": [],
   "source": [
    "aux = nonlinsolve(eqs2, var2)"
   ]
  },
  {
   "cell_type": "code",
   "execution_count": 147,
   "id": "6202d297-87e9-4267-bd3b-5e9575284396",
   "metadata": {},
   "outputs": [
    {
     "data": {
      "text/latex": [
       "$\\displaystyle \\left\\{\\left( \\frac{I_{R} \\left(I_{I}^{2} R_{L} + I_{R}^{2} R_{L} - \\sqrt{R_{L} \\left(I_{I}^{4} R_{L} + 2 I_{I}^{2} I_{R}^{2} R_{L} - 4 I_{I}^{2} P + I_{R}^{4} R_{L} - 4 I_{R}^{2} P\\right)}\\right)}{2 \\left(I_{I}^{2} + I_{R}^{2}\\right)}, \\  \\frac{I_{I} \\left(I_{I}^{2} R_{L} + I_{R}^{2} R_{L} - \\sqrt{R_{L} \\left(I_{I}^{4} R_{L} + 2 I_{I}^{2} I_{R}^{2} R_{L} - 4 I_{I}^{2} P + I_{R}^{4} R_{L} - 4 I_{R}^{2} P\\right)}\\right)}{2 \\left(I_{I}^{2} + I_{R}^{2}\\right)}, \\  \\frac{I_{R} \\left(I_{I}^{2} R_{L} + I_{R}^{2} R_{L} + \\sqrt{R_{L} \\left(I_{I}^{4} R_{L} + 2 I_{I}^{2} I_{R}^{2} R_{L} - 4 I_{I}^{2} P + I_{R}^{4} R_{L} - 4 I_{R}^{2} P\\right)}\\right)}{2 R_{L} \\left(I_{I}^{2} + I_{R}^{2}\\right)}, \\  \\frac{I_{I} \\left(I_{I}^{2} R_{L} + I_{R}^{2} R_{L} + \\sqrt{R_{L} \\left(I_{I}^{4} R_{L} + 2 I_{I}^{2} I_{R}^{2} R_{L} - 4 I_{I}^{2} P + I_{R}^{4} R_{L} - 4 I_{R}^{2} P\\right)}\\right)}{2 R_{L} \\left(I_{I}^{2} + I_{R}^{2}\\right)}, \\  \\frac{I_{R} \\left(I_{I}^{2} R_{L} + I_{R}^{2} R_{L} - \\sqrt{R_{L} \\left(I_{I}^{4} R_{L} + 2 I_{I}^{2} I_{R}^{2} R_{L} - 4 I_{I}^{2} P + I_{R}^{4} R_{L} - 4 I_{R}^{2} P\\right)}\\right)}{2 R_{L} \\left(I_{I}^{2} + I_{R}^{2}\\right)}, \\  \\frac{I_{I}}{2} - \\frac{I_{I} \\sqrt{R_{L} \\left(I_{I}^{2} + I_{R}^{2}\\right) \\left(I_{I}^{2} R_{L} + I_{R}^{2} R_{L} - 4 P\\right)}}{2 R_{L} \\left(I_{I}^{2} + I_{R}^{2}\\right)}\\right), \\left( \\frac{I_{R} \\left(I_{I}^{2} R_{L} + I_{R}^{2} R_{L} + \\sqrt{R_{L} \\left(I_{I}^{4} R_{L} + 2 I_{I}^{2} I_{R}^{2} R_{L} - 4 I_{I}^{2} P + I_{R}^{4} R_{L} - 4 I_{R}^{2} P\\right)}\\right)}{2 \\left(I_{I}^{2} + I_{R}^{2}\\right)}, \\  \\frac{I_{I} \\left(I_{I}^{2} R_{L} + I_{R}^{2} R_{L} + \\sqrt{R_{L} \\left(I_{I}^{4} R_{L} + 2 I_{I}^{2} I_{R}^{2} R_{L} - 4 I_{I}^{2} P + I_{R}^{4} R_{L} - 4 I_{R}^{2} P\\right)}\\right)}{2 \\left(I_{I}^{2} + I_{R}^{2}\\right)}, \\  \\frac{I_{R} \\left(I_{I}^{2} R_{L} + I_{R}^{2} R_{L} - \\sqrt{R_{L} \\left(I_{I}^{4} R_{L} + 2 I_{I}^{2} I_{R}^{2} R_{L} - 4 I_{I}^{2} P + I_{R}^{4} R_{L} - 4 I_{R}^{2} P\\right)}\\right)}{2 R_{L} \\left(I_{I}^{2} + I_{R}^{2}\\right)}, \\  \\frac{I_{I} \\left(I_{I}^{2} R_{L} + I_{R}^{2} R_{L} - \\sqrt{R_{L} \\left(I_{I}^{4} R_{L} + 2 I_{I}^{2} I_{R}^{2} R_{L} - 4 I_{I}^{2} P + I_{R}^{4} R_{L} - 4 I_{R}^{2} P\\right)}\\right)}{2 R_{L} \\left(I_{I}^{2} + I_{R}^{2}\\right)}, \\  \\frac{I_{R} \\left(I_{I}^{2} R_{L} + I_{R}^{2} R_{L} + \\sqrt{R_{L} \\left(I_{I}^{4} R_{L} + 2 I_{I}^{2} I_{R}^{2} R_{L} - 4 I_{I}^{2} P + I_{R}^{4} R_{L} - 4 I_{R}^{2} P\\right)}\\right)}{2 R_{L} \\left(I_{I}^{2} + I_{R}^{2}\\right)}, \\  \\frac{I_{I}}{2} + \\frac{I_{I} \\sqrt{R_{L} \\left(I_{I}^{2} + I_{R}^{2}\\right) \\left(I_{I}^{2} R_{L} + I_{R}^{2} R_{L} - 4 P\\right)}}{2 R_{L} \\left(I_{I}^{2} + I_{R}^{2}\\right)}\\right)\\right\\}$"
      ],
      "text/plain": [
       "FiniteSet((I_R*(I_I**2*R_L + I_R**2*R_L + sqrt(R_L*(I_I**4*R_L + 2*I_I**2*I_R**2*R_L - 4*I_I**2*P + I_R**4*R_L - 4*I_R**2*P)))/(2*(I_I**2 + I_R**2)), I_I*(I_I**2*R_L + I_R**2*R_L + sqrt(R_L*(I_I**4*R_L + 2*I_I**2*I_R**2*R_L - 4*I_I**2*P + I_R**4*R_L - 4*I_R**2*P)))/(2*(I_I**2 + I_R**2)), I_R*(I_I**2*R_L + I_R**2*R_L - sqrt(R_L*(I_I**4*R_L + 2*I_I**2*I_R**2*R_L - 4*I_I**2*P + I_R**4*R_L - 4*I_R**2*P)))/(2*R_L*(I_I**2 + I_R**2)), I_I*(I_I**2*R_L + I_R**2*R_L - sqrt(R_L*(I_I**4*R_L + 2*I_I**2*I_R**2*R_L - 4*I_I**2*P + I_R**4*R_L - 4*I_R**2*P)))/(2*R_L*(I_I**2 + I_R**2)), I_R*(I_I**2*R_L + I_R**2*R_L + sqrt(R_L*(I_I**4*R_L + 2*I_I**2*I_R**2*R_L - 4*I_I**2*P + I_R**4*R_L - 4*I_R**2*P)))/(2*R_L*(I_I**2 + I_R**2)), I_I/2 + I_I*sqrt(R_L*(I_I**2 + I_R**2)*(I_I**2*R_L + I_R**2*R_L - 4*P))/(2*R_L*(I_I**2 + I_R**2))), (I_R*(I_I**2*R_L + I_R**2*R_L - sqrt(R_L*(I_I**4*R_L + 2*I_I**2*I_R**2*R_L - 4*I_I**2*P + I_R**4*R_L - 4*I_R**2*P)))/(2*(I_I**2 + I_R**2)), I_I*(I_I**2*R_L + I_R**2*R_L - sqrt(R_L*(I_I**4*R_L + 2*I_I**2*I_R**2*R_L - 4*I_I**2*P + I_R**4*R_L - 4*I_R**2*P)))/(2*(I_I**2 + I_R**2)), I_R*(I_I**2*R_L + I_R**2*R_L + sqrt(R_L*(I_I**4*R_L + 2*I_I**2*I_R**2*R_L - 4*I_I**2*P + I_R**4*R_L - 4*I_R**2*P)))/(2*R_L*(I_I**2 + I_R**2)), I_I*(I_I**2*R_L + I_R**2*R_L + sqrt(R_L*(I_I**4*R_L + 2*I_I**2*I_R**2*R_L - 4*I_I**2*P + I_R**4*R_L - 4*I_R**2*P)))/(2*R_L*(I_I**2 + I_R**2)), I_R*(I_I**2*R_L + I_R**2*R_L - sqrt(R_L*(I_I**4*R_L + 2*I_I**2*I_R**2*R_L - 4*I_I**2*P + I_R**4*R_L - 4*I_R**2*P)))/(2*R_L*(I_I**2 + I_R**2)), I_I/2 - I_I*sqrt(R_L*(I_I**2 + I_R**2)*(I_I**2*R_L + I_R**2*R_L - 4*P))/(2*R_L*(I_I**2 + I_R**2))))"
      ]
     },
     "execution_count": 147,
     "metadata": {},
     "output_type": "execute_result"
    }
   ],
   "source": [
    "aux"
   ]
  },
  {
   "cell_type": "code",
   "execution_count": 148,
   "id": "b839dd42-4043-4f44-a03b-32b0d8b4b14c",
   "metadata": {},
   "outputs": [
    {
     "data": {
      "text/latex": [
       "$\\displaystyle \\frac{I_{R} \\left(I_{I}^{2} R_{L} + I_{R}^{2} R_{L} - \\sqrt{R_{L} \\left(I_{I}^{4} R_{L} + 2 I_{I}^{2} I_{R}^{2} R_{L} - 4 I_{I}^{2} P + I_{R}^{4} R_{L} - 4 I_{R}^{2} P\\right)}\\right)}{2 \\left(I_{I}^{2} + I_{R}^{2}\\right)}$"
      ],
      "text/plain": [
       "I_R*(I_I**2*R_L + I_R**2*R_L - sqrt(R_L*(I_I**4*R_L + 2*I_I**2*I_R**2*R_L - 4*I_I**2*P + I_R**4*R_L - 4*I_R**2*P)))/(2*(I_I**2 + I_R**2))"
      ]
     },
     "execution_count": 148,
     "metadata": {},
     "output_type": "execute_result"
    }
   ],
   "source": [
    "Vr_expr1 = aux.args[1][0]\n",
    "Vr_expr1"
   ]
  },
  {
   "cell_type": "code",
   "execution_count": 149,
   "id": "33b8201b-aa7c-44f6-bfd8-d36dbd05be0c",
   "metadata": {},
   "outputs": [
    {
     "data": {
      "text/latex": [
       "$\\displaystyle \\frac{I_{I} \\left(I_{I}^{2} R_{L} + I_{R}^{2} R_{L} - \\sqrt{R_{L} \\left(I_{I}^{4} R_{L} + 2 I_{I}^{2} I_{R}^{2} R_{L} - 4 I_{I}^{2} P + I_{R}^{4} R_{L} - 4 I_{R}^{2} P\\right)}\\right)}{2 \\left(I_{I}^{2} + I_{R}^{2}\\right)}$"
      ],
      "text/plain": [
       "I_I*(I_I**2*R_L + I_R**2*R_L - sqrt(R_L*(I_I**4*R_L + 2*I_I**2*I_R**2*R_L - 4*I_I**2*P + I_R**4*R_L - 4*I_R**2*P)))/(2*(I_I**2 + I_R**2))"
      ]
     },
     "execution_count": 149,
     "metadata": {},
     "output_type": "execute_result"
    }
   ],
   "source": [
    "Vi_expr1 = aux.args[1][1]\n",
    "Vi_expr1"
   ]
  },
  {
   "cell_type": "code",
   "execution_count": 150,
   "id": "97fc1cdb-627d-4687-828e-5e2f7c5ca4b7",
   "metadata": {},
   "outputs": [
    {
     "data": {
      "text/latex": [
       "$\\displaystyle \\frac{I_{R} \\left(I_{I}^{2} R_{L} + I_{R}^{2} R_{L} + \\sqrt{R_{L} \\left(I_{I}^{4} R_{L} + 2 I_{I}^{2} I_{R}^{2} R_{L} - 4 I_{I}^{2} P + I_{R}^{4} R_{L} - 4 I_{R}^{2} P\\right)}\\right)}{2 \\left(I_{I}^{2} + I_{R}^{2}\\right)}$"
      ],
      "text/plain": [
       "I_R*(I_I**2*R_L + I_R**2*R_L + sqrt(R_L*(I_I**4*R_L + 2*I_I**2*I_R**2*R_L - 4*I_I**2*P + I_R**4*R_L - 4*I_R**2*P)))/(2*(I_I**2 + I_R**2))"
      ]
     },
     "execution_count": 150,
     "metadata": {},
     "output_type": "execute_result"
    }
   ],
   "source": [
    "Vr_expr2 = aux.args[0][0]\n",
    "Vr_expr2"
   ]
  },
  {
   "cell_type": "code",
   "execution_count": 151,
   "id": "48e9604e-f0f1-4964-97df-2bda5b8b84be",
   "metadata": {},
   "outputs": [
    {
     "data": {
      "text/latex": [
       "$\\displaystyle \\frac{I_{I} \\left(I_{I}^{2} R_{L} + I_{R}^{2} R_{L} + \\sqrt{R_{L} \\left(I_{I}^{4} R_{L} + 2 I_{I}^{2} I_{R}^{2} R_{L} - 4 I_{I}^{2} P + I_{R}^{4} R_{L} - 4 I_{R}^{2} P\\right)}\\right)}{2 \\left(I_{I}^{2} + I_{R}^{2}\\right)}$"
      ],
      "text/plain": [
       "I_I*(I_I**2*R_L + I_R**2*R_L + sqrt(R_L*(I_I**4*R_L + 2*I_I**2*I_R**2*R_L - 4*I_I**2*P + I_R**4*R_L - 4*I_R**2*P)))/(2*(I_I**2 + I_R**2))"
      ]
     },
     "execution_count": 151,
     "metadata": {},
     "output_type": "execute_result"
    }
   ],
   "source": [
    "Vi_expr2 = aux.args[0][1]\n",
    "Vi_expr2"
   ]
  },
  {
   "cell_type": "code",
   "execution_count": 152,
   "id": "8a31af50-6819-4cba-aef5-a56280e2262b",
   "metadata": {},
   "outputs": [
    {
     "data": {
      "text/latex": [
       "$\\displaystyle 0.633974596215561$"
      ],
      "text/plain": [
       "0.633974596215561"
      ]
     },
     "execution_count": 152,
     "metadata": {},
     "output_type": "execute_result"
    }
   ],
   "source": [
    "Vr_expr1.evalf(subs={R_L: 3, P: 0.5, Q: 0.1, I_R: 1, I_I: 0.0})"
   ]
  },
  {
   "cell_type": "code",
   "execution_count": 153,
   "id": "fefe3397-88d3-456e-a24d-c14354a28284",
   "metadata": {},
   "outputs": [],
   "source": [
    "R = symbols('R')\n",
    "X = symbols('X')"
   ]
  },
  {
   "cell_type": "code",
   "execution_count": 154,
   "id": "d0889bf9-b02f-4f6e-b627-e6496e0c42b7",
   "metadata": {},
   "outputs": [],
   "source": [
    "dIr_dt1 = V_r1 - Vr_expr1 - R * I_R + X*I_I\n",
    "dIi_dt1 = V_i1 - Vi_expr1 - R * I_I - X*I_R\n",
    "dIr_dt2 = V_r1 - Vr_expr2 - R * I_R + X*I_I\n",
    "dIi_dt2 = V_i1 - Vi_expr2 - R * I_I - X*I_R"
   ]
  },
  {
   "cell_type": "code",
   "execution_count": 155,
   "id": "4e9e72fc-0665-406b-bf91-3dea27cae293",
   "metadata": {},
   "outputs": [],
   "source": [
    "A11 = diff(dIr_dt1, I_R)\n",
    "A12 = diff(dIr_dt1, I_I)\n",
    "A21 = diff(dIi_dt1, I_R)\n",
    "A22 = diff(dIi_dt1, I_I)"
   ]
  },
  {
   "cell_type": "code",
   "execution_count": 156,
   "id": "60046568-5904-487b-8da8-26865bc14c73",
   "metadata": {},
   "outputs": [
    {
     "data": {
      "text/latex": [
       "$\\displaystyle \\frac{I_{R}^{2} \\left(I_{I}^{2} R_{L} + I_{R}^{2} R_{L} - \\sqrt{R_{L} \\left(I_{I}^{4} R_{L} + 2 I_{I}^{2} I_{R}^{2} R_{L} - 4 I_{I}^{2} P + I_{R}^{4} R_{L} - 4 I_{R}^{2} P\\right)}\\right)}{\\left(I_{I}^{2} + I_{R}^{2}\\right)^{2}} - \\frac{I_{R} \\left(2 I_{R} R_{L} - \\frac{\\sqrt{R_{L} \\left(I_{I}^{4} R_{L} + 2 I_{I}^{2} I_{R}^{2} R_{L} - 4 I_{I}^{2} P + I_{R}^{4} R_{L} - 4 I_{R}^{2} P\\right)} \\left(4 I_{I}^{2} I_{R} R_{L} + 4 I_{R}^{3} R_{L} - 8 I_{R} P\\right)}{2 \\left(I_{I}^{4} R_{L} + 2 I_{I}^{2} I_{R}^{2} R_{L} - 4 I_{I}^{2} P + I_{R}^{4} R_{L} - 4 I_{R}^{2} P\\right)}\\right)}{2 \\left(I_{I}^{2} + I_{R}^{2}\\right)} - R - \\frac{I_{I}^{2} R_{L} + I_{R}^{2} R_{L} - \\sqrt{R_{L} \\left(I_{I}^{4} R_{L} + 2 I_{I}^{2} I_{R}^{2} R_{L} - 4 I_{I}^{2} P + I_{R}^{4} R_{L} - 4 I_{R}^{2} P\\right)}}{2 \\left(I_{I}^{2} + I_{R}^{2}\\right)}$"
      ],
      "text/plain": [
       "I_R**2*(I_I**2*R_L + I_R**2*R_L - sqrt(R_L*(I_I**4*R_L + 2*I_I**2*I_R**2*R_L - 4*I_I**2*P + I_R**4*R_L - 4*I_R**2*P)))/(I_I**2 + I_R**2)**2 - I_R*(2*I_R*R_L - sqrt(R_L*(I_I**4*R_L + 2*I_I**2*I_R**2*R_L - 4*I_I**2*P + I_R**4*R_L - 4*I_R**2*P))*(4*I_I**2*I_R*R_L + 4*I_R**3*R_L - 8*I_R*P)/(2*(I_I**4*R_L + 2*I_I**2*I_R**2*R_L - 4*I_I**2*P + I_R**4*R_L - 4*I_R**2*P)))/(2*(I_I**2 + I_R**2)) - R - (I_I**2*R_L + I_R**2*R_L - sqrt(R_L*(I_I**4*R_L + 2*I_I**2*I_R**2*R_L - 4*I_I**2*P + I_R**4*R_L - 4*I_R**2*P)))/(2*(I_I**2 + I_R**2))"
      ]
     },
     "execution_count": 156,
     "metadata": {},
     "output_type": "execute_result"
    }
   ],
   "source": [
    "A11"
   ]
  },
  {
   "cell_type": "markdown",
   "id": "ec43f12f-5343-42be-bec0-28ee24d6641e",
   "metadata": {},
   "source": [
    "# Example Case"
   ]
  },
  {
   "cell_type": "code",
   "execution_count": 195,
   "id": "e1028167-0b54-4c0d-a7ad-4e50b80c3ecf",
   "metadata": {},
   "outputs": [],
   "source": [
    "from scipy.optimize import fsolve\n",
    "from numpy import linspace, savetxt\n",
    "from numpy import real"
   ]
  },
  {
   "cell_type": "code",
   "execution_count": 157,
   "id": "d375ff37-1d44-46f1-aa5c-1bde5559881b",
   "metadata": {},
   "outputs": [],
   "source": [
    "varx = [I_R, I_I, V_rL, V_iL, I_r1, I_i1, I_r2, I_i2]"
   ]
  },
  {
   "cell_type": "code",
   "execution_count": 170,
   "id": "1a33ec4e-8dc2-48ba-97e6-4818d9fc1476",
   "metadata": {},
   "outputs": [],
   "source": [
    "eta = linspace(0.02, 0.98, num=70)"
   ]
  },
  {
   "cell_type": "code",
   "execution_count": 171,
   "id": "1a7d2b90-65f9-48f9-b43e-66d4de7d2cc1",
   "metadata": {},
   "outputs": [],
   "source": [
    "eta_precision = linspace(eta[34],eta[35], num=50)\n",
    "eta_final = [*eta[0:34], *eta_precision, *eta[36:]]"
   ]
  },
  {
   "cell_type": "code",
   "execution_count": 172,
   "id": "4b118bd0-305f-48d6-982b-b14a23b92154",
   "metadata": {},
   "outputs": [],
   "source": [
    "eta = eta_final"
   ]
  },
  {
   "cell_type": "code",
   "execution_count": 173,
   "id": "6aa7beb9-ee82-4389-b9ab-3d6c2e9d46f9",
   "metadata": {},
   "outputs": [],
   "source": [
    "# Params\n",
    "eqs3 = [\n",
    "    V_r1 - V_rL - R * I_R + X*I_I,\n",
    "    V_i1 - V_iL - R * I_I - X*I_R,\n",
    "    V_rL*I_r1 + V_iL*I_i1 - P,\n",
    "    V_iL*I_r1 - V_rL*I_i1 - Q,\n",
    "    I_r2 - V_rL / R_L,\n",
    "    I_i2 - V_iL / R_L,\n",
    "    I_R - I_r1 - I_r2,\n",
    "    I_I - I_i1 - I_i2,    \n",
    "]"
   ]
  },
  {
   "cell_type": "code",
   "execution_count": 174,
   "id": "e6b1f882-9c6a-4613-a40e-99c75ece4668",
   "metadata": {},
   "outputs": [],
   "source": [
    "F = Matrix(eqs3)"
   ]
  },
  {
   "cell_type": "code",
   "execution_count": 175,
   "id": "688076c4-2977-462d-8dba-51c6dafcbe01",
   "metadata": {},
   "outputs": [
    {
     "data": {
      "text/latex": [
       "$\\displaystyle \\left[\\begin{matrix}-0.01 & 0.1 & -1 & 0 & 0 & 0 & 0 & 0\\\\-0.1 & -0.01 & 0 & -1 & 0 & 0 & 0 & 0\\\\0 & 0 & I_{r1} & I_{i1} & V_{rL} & V_{iL} & 0 & 0\\\\0 & 0 & - I_{i1} & I_{r1} & V_{iL} & - V_{rL} & 0 & 0\\\\0 & 0 & -1.01074363518352 & 0 & 0 & 0 & 1 & 0\\\\0 & 0 & 0 & -1.01074363518352 & 0 & 0 & 0 & 1\\\\1 & 0 & 0 & 0 & -1 & 0 & -1 & 0\\\\0 & 1 & 0 & 0 & 0 & -1 & 0 & -1\\end{matrix}\\right]$"
      ],
      "text/plain": [
       "Matrix([\n",
       "[-0.01,   0.1,                -1,                 0,    0,     0,  0,  0],\n",
       "[ -0.1, -0.01,                 0,                -1,    0,     0,  0,  0],\n",
       "[    0,     0,              I_r1,              I_i1, V_rL,  V_iL,  0,  0],\n",
       "[    0,     0,             -I_i1,              I_r1, V_iL, -V_rL,  0,  0],\n",
       "[    0,     0, -1.01074363518352,                 0,    0,     0,  1,  0],\n",
       "[    0,     0,                 0, -1.01074363518352,    0,     0,  0,  1],\n",
       "[    1,     0,                 0,                 0,   -1,     0, -1,  0],\n",
       "[    0,     1,                 0,                 0,    0,    -1,  0, -1]])"
      ]
     },
     "execution_count": 175,
     "metadata": {},
     "output_type": "execute_result"
    }
   ],
   "source": [
    "F = Matrix(eqs3)\n",
    "FJac = F.jacobian(varx)\n",
    "FJac"
   ]
  },
  {
   "cell_type": "code",
   "execution_count": 176,
   "id": "5f81c75f-8e79-4165-bd99-7c80411b9027",
   "metadata": {},
   "outputs": [],
   "source": [
    "fx = FJac[0:2,0:2]\n",
    "fy = FJac[0:2, 2:8]\n",
    "gx = FJac[2:8, 0:2]\n",
    "gy = FJac[2:8, 2:8]"
   ]
  },
  {
   "cell_type": "code",
   "execution_count": 177,
   "id": "d100554d-f2a9-49d1-9536-9d5b047a9963",
   "metadata": {},
   "outputs": [],
   "source": [
    "aux = gy.det()"
   ]
  },
  {
   "cell_type": "code",
   "execution_count": 178,
   "id": "bc153d39-5000-46d4-b6ac-21d83ef64daa",
   "metadata": {},
   "outputs": [
    {
     "data": {
      "text/latex": [
       "$\\displaystyle 1.0 I_{i1}^{2} + 1.0 I_{r1}^{2} - 1.02160269606399 V_{iL}^{2} - 1.02160269606399 V_{rL}^{2}$"
      ],
      "text/plain": [
       "1.0*I_i1**2 + 1.0*I_r1**2 - 1.02160269606399*V_iL**2 - 1.02160269606399*V_rL**2"
      ]
     },
     "execution_count": 178,
     "metadata": {},
     "output_type": "execute_result"
    }
   ],
   "source": [
    "aux"
   ]
  },
  {
   "cell_type": "code",
   "execution_count": 181,
   "id": "1b674447-172a-41a5-a1ef-f232e7f3c3f1",
   "metadata": {},
   "outputs": [],
   "source": [
    "R = 0.01\n",
    "X = 0.1\n",
    "V_r1 = 1.0\n",
    "V_i1 = 0.0\n",
    "P = 0.5\n",
    "Q = 0.05"
   ]
  },
  {
   "cell_type": "code",
   "execution_count": 182,
   "id": "73c1281d-a50f-4bc1-abec-e5db8ba15b24",
   "metadata": {},
   "outputs": [],
   "source": [
    "def pflow(x):\n",
    "    I_R = x[0]\n",
    "    I_I = x[1]\n",
    "    V_rL = x[2]\n",
    "    V_iL = x[3]\n",
    "    return [V_r1 - V_rL - R * I_R + X*I_I,\n",
    "            V_i1 - V_iL - R * I_I - X*I_R,\n",
    "            V_rL*I_R + V_iL*I_I - 1,\n",
    "            V_iL*I_R - V_rL*I_I - 0]"
   ]
  },
  {
   "cell_type": "code",
   "execution_count": 183,
   "id": "8fa24068-c28f-45b4-ae0d-029060094f20",
   "metadata": {},
   "outputs": [
    {
     "data": {
      "text/latex": [
       "$\\displaystyle 0.98467413509814$"
      ],
      "text/plain": [
       "0.984674135098140"
      ]
     },
     "execution_count": 183,
     "metadata": {},
     "output_type": "execute_result"
    }
   ],
   "source": [
    "x = fsolve(pflow, [1.0, 0.0, 1.0, 0.0])\n",
    "V0 = sqrt(x[2]**2 + x[3]**2)\n",
    "V0"
   ]
  },
  {
   "cell_type": "code",
   "execution_count": 184,
   "id": "1cab0fac-5fd1-479e-859d-209b29b1c984",
   "metadata": {},
   "outputs": [
    {
     "data": {
      "text/latex": [
       "$\\displaystyle 1.0 I_{i1}^{2} + 1.0 I_{r1}^{2} - 0.990528762479845$"
      ],
      "text/plain": [
       "1.0*I_i1**2 + 1.0*I_r1**2 - 0.990528762479845"
      ]
     },
     "execution_count": 184,
     "metadata": {},
     "output_type": "execute_result"
    }
   ],
   "source": [
    "aux.evalf(subs={V_rL: x[2], V_iL:x[3]})"
   ]
  },
  {
   "cell_type": "code",
   "execution_count": 185,
   "id": "74837548-7b5c-4267-83e7-41883c334a65",
   "metadata": {},
   "outputs": [
    {
     "name": "stdout",
     "output_type": "stream",
     "text": [
      "0.02\n",
      "0.033913043478260865\n",
      "0.04782608695652174\n",
      "0.0617391304347826\n",
      "0.07565217391304348\n",
      "0.08956521739130434\n",
      "0.10347826086956521\n",
      "0.11739130434782609\n",
      "0.13130434782608694\n",
      "0.1452173913043478\n",
      "0.15913043478260866\n",
      "0.17304347826086955\n",
      "0.1869565217391304\n",
      "0.20086956521739127\n",
      "0.21478260869565216\n",
      "0.22869565217391302\n",
      "0.24260869565217388\n",
      "0.25652173913043474\n",
      "0.27043478260869563\n",
      "0.2843478260869565\n",
      "0.29826086956521736\n",
      "0.31217391304347825\n",
      "0.32608695652173914\n",
      "0.33999999999999997\n",
      "0.35391304347826086\n",
      "0.36782608695652175\n",
      "0.3817391304347826\n",
      "0.39565217391304347\n",
      "0.40956521739130436\n",
      "0.4234782608695652\n",
      "0.4373913043478261\n",
      "0.4513043478260869\n",
      "0.4652173913043478\n",
      "0.4791304347826087\n",
      "0.4930434782608695\n",
      "0.49332741792369117\n",
      "0.4936113575865128\n",
      "0.49389529724933445\n",
      "0.49417923691215615\n",
      "0.4944631765749778\n",
      "0.49474711623779943\n",
      "0.4950310559006211\n",
      "0.4953149955634427\n",
      "0.49559893522626436\n",
      "0.49588287488908606\n",
      "0.4961668145519077\n",
      "0.49645075421472934\n",
      "0.496734693877551\n",
      "0.4970186335403726\n",
      "0.49730257320319426\n",
      "0.49758651286601596\n",
      "0.4978704525288376\n",
      "0.49815439219165925\n",
      "0.4984383318544809\n",
      "0.49872227151730253\n",
      "0.49900621118012417\n",
      "0.49929015084294587\n",
      "0.4995740905057675\n",
      "0.49985803016858915\n",
      "0.5001419698314108\n",
      "0.5004259094942325\n",
      "0.5007098491570541\n",
      "0.5009937888198758\n",
      "0.5012777284826974\n",
      "0.5015616681455191\n",
      "0.5018456078083408\n",
      "0.5021295474711623\n",
      "0.502413487133984\n",
      "0.5026974267968056\n",
      "0.5029813664596273\n",
      "0.5032653061224489\n",
      "0.5035492457852706\n",
      "0.5038331854480923\n",
      "0.5041171251109139\n",
      "0.5044010647737356\n",
      "0.5046850044365572\n",
      "0.5049689440993789\n",
      "0.5052528837622006\n",
      "0.5055368234250222\n",
      "0.5058207630878438\n",
      "0.5061047027506654\n",
      "0.5063886424134871\n",
      "0.5066725820763087\n",
      "0.5069565217391304\n",
      "0.5208695652173913\n",
      "0.5347826086956522\n",
      "0.548695652173913\n",
      "0.5626086956521739\n",
      "0.5765217391304347\n",
      "0.5904347826086956\n",
      "0.6043478260869565\n",
      "0.6182608695652173\n",
      "0.6321739130434783\n",
      "0.6460869565217391\n",
      "0.6599999999999999\n",
      "0.6739130434782609\n",
      "0.6878260869565217\n",
      "0.7017391304347825\n",
      "0.7156521739130435\n",
      "0.7295652173913043\n",
      "0.7434782608695651\n",
      "0.7573913043478261\n",
      "0.7713043478260869\n",
      "0.7852173913043478\n",
      "0.7991304347826087\n",
      "0.8130434782608695\n",
      "0.8269565217391304\n",
      "0.8408695652173912\n",
      "0.8547826086956521\n",
      "0.868695652173913\n",
      "0.8826086956521738\n",
      "0.8965217391304348\n",
      "0.9104347826086956\n",
      "0.9243478260869564\n",
      "0.9382608695652174\n",
      "0.9521739130434782\n",
      "0.966086956521739\n",
      "0.98\n"
     ]
    }
   ],
   "source": [
    "Vmag = []\n",
    "eigs = []\n",
    "P_cpl = []\n",
    "R_list = []\n",
    "gy_dets = []\n",
    "for k in eta:\n",
    "    P = 1.0*k\n",
    "    Q = 0.0\n",
    "    R_L = (V0**2)/(1-P)\n",
    "    eqs3 = [\n",
    "        V_r1 - V_rL - R * I_R + X*I_I,\n",
    "        V_i1 - V_iL - R * I_I - X*I_R,\n",
    "        V_rL*I_r1 + V_iL*I_i1 - P,\n",
    "        V_iL*I_r1 - V_rL*I_i1 - Q,\n",
    "        I_r2 - V_rL / R_L,\n",
    "        I_i2 - V_iL / R_L,\n",
    "        I_R - I_r1 - I_r2,\n",
    "        I_I - I_i1 - I_i2,    \n",
    "    ]\n",
    "    F = Matrix(eqs3)\n",
    "    FJac = F.jacobian(varx)\n",
    "    fx = FJac[0:2,0:2]\n",
    "    fy = FJac[0:2, 2:8]\n",
    "    gx = FJac[2:8, 0:2]\n",
    "    gy = FJac[2:8, 2:8]\n",
    "    def f(x):\n",
    "        I_R = x[0]\n",
    "        I_I = x[1]\n",
    "        V_rL = x[2]\n",
    "        V_iL = x[3]\n",
    "        I_r1 = x[4]\n",
    "        I_i1 = x[5]\n",
    "        I_r2 = x[6]\n",
    "        I_i2 = x[7]\n",
    "        return [V_r1 - V_rL - R * I_R + X*I_I,\n",
    "                V_i1 - V_iL - R * I_I - X*I_R,\n",
    "                V_rL*I_r1 + V_iL*I_i1 - P,\n",
    "                V_iL*I_r1 - V_rL*I_i1 - Q,\n",
    "                I_r2 - V_rL / R_L,\n",
    "                I_i2 - V_iL / R_L,\n",
    "                I_R - I_r1 - I_r2,\n",
    "                I_I - I_i1 - I_i2]\n",
    "    x0 = [1.0, 0.1,1.0,-0.1,0.5,-0.05,0.5,-0.05]\n",
    "    x = fsolve(f, x0)\n",
    "    I_R1 = x[0]\n",
    "    I_I1 = x[1]\n",
    "    V_rL1 = x[2]\n",
    "    V_iL1 = x[3]\n",
    "    I_r11 = x[4]\n",
    "    I_i11 = x[5]\n",
    "    I_r21 = x[6]\n",
    "    I_i21 = x[7]\n",
    "    Vabs = sqrt(V_rL1**2+V_iL1**2)\n",
    "    Vmag.append(Vabs)\n",
    "    R_list.append(R_L)\n",
    "    P_cpl.append(P)\n",
    "    gy_eval = gy.evalf(subs={I_r1: I_r11, I_i1:I_i11, V_rL: V_rL1, V_iL: V_iL1})\n",
    "    gy_dets.append(gy_eval.det())\n",
    "    print(k)\n",
    "    Jred = fx - fy @ gy_eval.inv() @ gx\n",
    "    eigvals = []\n",
    "    for k in Jred.eigenvals():\n",
    "        eigvals.append(k)\n",
    "    eigs.append(eigvals)    "
   ]
  },
  {
   "cell_type": "code",
   "execution_count": 186,
   "id": "c0904912-3c54-40e7-ac1d-e5e0348b471e",
   "metadata": {},
   "outputs": [],
   "source": [
    "#for (ix, k) in enumerate(P_cpl):\n",
    "#    print(k + Vmag[ix]**2/R_list[ix])"
   ]
  },
  {
   "cell_type": "code",
   "execution_count": 189,
   "id": "b6766abf-6b2e-4853-b0e3-4493a3c9618f",
   "metadata": {},
   "outputs": [],
   "source": [
    "re_eig1 = []\n",
    "im_eig1 = []\n",
    "re_eig2 = []\n",
    "im_eig2 = []\n",
    "for (ix,k) in enumerate(eigs):\n",
    "    #print(ix)\n",
    "    #print(k)\n",
    "    re_eig1.append(re(k[0]))\n",
    "    im_eig1.append(im(k[0]))\n",
    "    re_eig2.append(re(k[1]))\n",
    "    im_eig2.append(im(k[1]))\n",
    "    #print(gy_dets[ix])\n",
    "    #print(eta[ix])"
   ]
  },
  {
   "cell_type": "code",
   "execution_count": 190,
   "id": "cd83008d-6522-4cd2-954f-8076b2a3ff45",
   "metadata": {},
   "outputs": [],
   "source": [
    "import matplotlib.pyplot as plt"
   ]
  },
  {
   "cell_type": "code",
   "execution_count": 194,
   "id": "734cc63d-2e54-46f6-a4b1-8cc7ba85dbe2",
   "metadata": {},
   "outputs": [
    {
     "data": {
      "text/plain": [
       "(-0.1, 0.01)"
      ]
     },
     "execution_count": 194,
     "metadata": {},
     "output_type": "execute_result"
    },
    {
     "data": {
      "image/png": "[encoded data removed]",
      "text/plain": [
       "<Figure size 432x288 with 1 Axes>"
      ]
     },
     "metadata": {
      "needs_background": "light"
     },
     "output_type": "display_data"
    }
   ],
   "source": [
    "plt.scatter(re_eig1, im_eig1)\n",
    "plt.xlim(-5,5)\n",
    "plt.ylim(-0.1, 0.01)"
   ]
  },
  {
   "cell_type": "code",
   "execution_count": 192,
   "id": "d24d8206-f0e2-4df5-bb96-8880508bb458",
   "metadata": {},
   "outputs": [
    {
     "data": {
      "text/plain": [
       "<matplotlib.collections.PathCollection at 0x7fbe299e2c10>"
      ]
     },
     "execution_count": 192,
     "metadata": {},
     "output_type": "execute_result"
    },
    {
     "data": {
      "image/png": "[encoded data removed]",
      "text/plain": [
       "<Figure size 432x288 with 1 Axes>"
      ]
     },
     "metadata": {
      "needs_background": "light"
     },
     "output_type": "display_data"
    }
   ],
   "source": [
    "plt.scatter(re_eig2, im_eig2)\n",
    "#plt.xlim(-100,100)\n",
    "#plt.ylim(-0.1, 0.01)"
   ]
  },
  {
   "cell_type": "code",
   "execution_count": 197,
   "id": "d61769c3-9834-4bd3-aaee-f6d49ebfc97a",
   "metadata": {},
   "outputs": [],
   "source": [
    "import pandas as pd"
   ]
  },
  {
   "cell_type": "code",
   "execution_count": 200,
   "id": "da2e17fb-9713-4beb-a905-147c7a2d1ac8",
   "metadata": {},
   "outputs": [],
   "source": [
    "df = pd.DataFrame(list(zip(re_eig1, im_eig1)))"
   ]
  },
  {
   "cell_type": "code",
   "execution_count": 202,
   "id": "a5a515f4-fefa-4286-b24b-94245a1bbcdc",
   "metadata": {},
   "outputs": [],
   "source": [
    "df.to_csv('data.csv', index=False)"
   ]
  },
  {
   "cell_type": "code",
   "execution_count": 460,
   "id": "02863fcd-77fb-4759-a04c-43d3d82f23b4",
   "metadata": {},
   "outputs": [
    {
     "data": {
      "text/plain": [
       "0.548695652173913"
      ]
     },
     "execution_count": 460,
     "metadata": {},
     "output_type": "execute_result"
    }
   ],
   "source": [
    "P_cpl[38]"
   ]
  },
  {
   "cell_type": "code",
   "execution_count": 234,
   "id": "7d68c0c5-45dd-445c-85c7-f0c5540d3e36",
   "metadata": {},
   "outputs": [],
   "source": [
    "gy_eval = gy.evalf(subs={I_r1: 0.497798384483042, I_i1:-0.17898384483042, V_rL: 0.953398571001698, V_iL: -0.141910749604128})"
   ]
  },
  {
   "cell_type": "code",
   "execution_count": 237,
   "id": "9102f299-1261-408f-8386-36d6e38aaed8",
   "metadata": {},
   "outputs": [
    {
     "data": {
      "text/latex": [
       "$\\displaystyle \\left[\\begin{matrix}-2.23512419164698 & -0.0570997421723771 & -2.12286114311367 & 0.371626962086653 & -2.12286114311367 & 0.371626962086653\\\\0.494239784805657 & 0.701712468978116 & 0.371626962086653 & -0.739149603523763 & 0.371626962086653 & -0.739149603523763\\\\2.23512419164698 & 0.0570997421723771 & 1.12286114311367 & -0.371626962086653 & 1.12286114311367 & -0.371626962086653\\\\-0.494239784805657 & -0.701712468978116 & -0.371626962086653 & -0.260850396476237 & -0.371626962086653 & -0.260850396476237\\\\-2.23512419164698 & -0.0570997421723771 & -1.12286114311367 & 0.371626962086653 & -2.12286114311367 & 0.371626962086653\\\\0.494239784805657 & 0.701712468978116 & 0.371626962086653 & 0.260850396476237 & 0.371626962086653 & -0.739149603523763\\end{matrix}\\right]$"
      ],
      "text/plain": [
       "Matrix([\n",
       "[ -2.23512419164698, -0.0570997421723771,  -2.12286114311367,  0.371626962086653,  -2.12286114311367,  0.371626962086653],\n",
       "[ 0.494239784805657,   0.701712468978116,  0.371626962086653, -0.739149603523763,  0.371626962086653, -0.739149603523763],\n",
       "[  2.23512419164698,  0.0570997421723771,   1.12286114311367, -0.371626962086653,   1.12286114311367, -0.371626962086653],\n",
       "[-0.494239784805657,  -0.701712468978116, -0.371626962086653, -0.260850396476237, -0.371626962086653, -0.260850396476237],\n",
       "[ -2.23512419164698, -0.0570997421723771,  -1.12286114311367,  0.371626962086653,  -2.12286114311367,  0.371626962086653],\n",
       "[ 0.494239784805657,   0.701712468978116,  0.371626962086653,  0.260850396476237,  0.371626962086653, -0.739149603523763]])"
      ]
     },
     "execution_count": 237,
     "metadata": {},
     "output_type": "execute_result"
    }
   ],
   "source": [
    "Jred = fx - gy_eval.inv()"
   ]
  },
  {
   "cell_type": "code",
   "execution_count": 242,
   "id": "f23afded-66b2-4363-88b6-1df8cbca7ded",
   "metadata": {},
   "outputs": [],
   "source": [
    "Jred = fx - fy @ gy_eval.inv() @ gx"
   ]
  },
  {
   "cell_type": "code",
   "execution_count": 308,
   "id": "540076c3-a589-47f5-b388-5c840422d8d4",
   "metadata": {},
   "outputs": [],
   "source": [
    "from scipy.optimize import fsolve\n",
    "from numpy import linspace"
   ]
  },
  {
   "cell_type": "code",
   "execution_count": 302,
   "id": "5972e3fb-e893-4e8e-a32f-d879f3644549",
   "metadata": {},
   "outputs": [],
   "source": [
    "def f(x):\n",
    "    I_R = x[0]\n",
    "    I_I = x[1]\n",
    "    V_rL = x[2]\n",
    "    V_iL = x[3]\n",
    "    I_r1 = x[4]\n",
    "    I_i1 = x[5]\n",
    "    I_r2 = x[6]\n",
    "    I_i2 = x[7]\n",
    "    return [V_r1 - V_rL - R * I_R + X*I_I,\n",
    "            V_i1 - V_iL - R * I_I - X*I_R,\n",
    "            V_rL*I_r1 + V_iL*I_i1 - P,\n",
    "            V_iL*I_r1 - V_rL*I_i1 - Q,\n",
    "            I_r2 - V_rL / R_L,\n",
    "            I_i2 - V_iL / R_L,\n",
    "            I_R - I_r1 - I_r2,\n",
    "            I_I - I_i1 - I_i2]"
   ]
  },
  {
   "cell_type": "code",
   "execution_count": 303,
   "id": "1e59f307-f2c3-43a6-9ee2-887e5c1e2eb4",
   "metadata": {},
   "outputs": [],
   "source": [
    "x0 = [1.0, 0.1,1.0,-0.1,0.5,-0.05,0.5,-0.05]"
   ]
  },
  {
   "cell_type": "code",
   "execution_count": null,
   "id": "1f4a1869-546f-4434-854d-92d8897367d3",
   "metadata": {},
   "outputs": [],
   "source": [
    "eqs3"
   ]
  },
  {
   "cell_type": "code",
   "execution_count": 305,
   "id": "3cb19115-0d9d-4219-998a-1adc5f2b9ff3",
   "metadata": {},
   "outputs": [
    {
     "data": {
      "text/plain": [
       "array([ 0.74564365, -0.15809794,  0.97673377, -0.07298339,  0.50146021,\n",
       "       -0.1398521 ,  0.24418344, -0.01824585])"
      ]
     },
     "execution_count": 305,
     "metadata": {},
     "output_type": "execute_result"
    }
   ],
   "source": [
    "root = fsolve(f, x0)\n",
    "root"
   ]
  },
  {
   "cell_type": "code",
   "execution_count": 230,
   "id": "c72e9c80-74a2-4856-b312-da39dbcacc19",
   "metadata": {},
   "outputs": [
    {
     "data": {
      "text/latex": [
       "$\\displaystyle 0.953398571001698$"
      ],
      "text/plain": [
       "0.953398571001698"
      ]
     },
     "execution_count": 230,
     "metadata": {},
     "output_type": "execute_result"
    }
   ],
   "source": [
    "aux.args[0][2]"
   ]
  },
  {
   "cell_type": "code",
   "execution_count": 67,
   "id": "32d83c5e-74d3-4203-8d43-d2e9fc34cd6d",
   "metadata": {},
   "outputs": [],
   "source": [
    "Vr_expr1 = aux.args[1][0]\n",
    "Vi_expr1 = aux.args[1][1]\n",
    "Vr_expr2 = aux.args[0][0]\n",
    "Vi_expr2 = aux.args[0][1]"
   ]
  },
  {
   "cell_type": "code",
   "execution_count": 68,
   "id": "a503ffee-1b74-4b00-8d79-2bf4bf603613",
   "metadata": {},
   "outputs": [],
   "source": [
    "dIr_dt1 = V_r1 - Vr_expr1 - R * I_R + X*I_I\n",
    "dIi_dt1 = V_i1 - Vi_expr1 - R * I_I - X*I_R\n",
    "dIr_dt2 = V_r1 - Vr_expr2 - R * I_R + X*I_I\n",
    "dIi_dt2 = V_i1 - Vi_expr2 - R * I_I - X*I_R"
   ]
  },
  {
   "cell_type": "code",
   "execution_count": 71,
   "id": "1a7d6577-bebc-495e-b7a5-87e76774b46a",
   "metadata": {},
   "outputs": [],
   "source": [
    "eq_sol1 = [dIr_dt1, dIi_dt1]\n",
    "eq_sol2 = [dIr_dt2, dIi_dt2]"
   ]
  },
  {
   "cell_type": "code",
   "execution_count": 73,
   "id": "bd21ed67-6e27-43b7-91ba-587a2f2bf9f7",
   "metadata": {},
   "outputs": [],
   "source": [
    "sol1 = nonlinsolve(eq_sol1, varx)"
   ]
  },
  {
   "cell_type": "code",
   "execution_count": 316,
   "id": "c3aabb8e-d4a0-4a93-a41f-d1c3ffa5def7",
   "metadata": {},
   "outputs": [
    {
     "data": {
      "text/plain": [
       "{-2.21996044593094: 1, -0.662050300706488: 1}"
      ]
     },
     "execution_count": 316,
     "metadata": {},
     "output_type": "execute_result"
    }
   ],
   "source": [
    "Jred.eigenvals()"
   ]
  },
  {
   "cell_type": "code",
   "execution_count": 318,
   "id": "555dd745-bd2c-4fe5-a045-6d8ea1878d47",
   "metadata": {},
   "outputs": [
    {
     "name": "stdout",
     "output_type": "stream",
     "text": [
      "-2.21996044593094\n",
      "-0.662050300706488\n"
     ]
    }
   ],
   "source": [
    "for k in Jred.eigenvals():\n",
    "    print(k)"
   ]
  },
  {
   "cell_type": "code",
   "execution_count": null,
   "id": "94362acb-def6-4cb1-87d0-e59b8a2f2ea2",
   "metadata": {},
   "outputs": [],
   "source": [
    "# Params\n",
    "eqs3 = [\n",
    "    V_r1 - V_rL - R * I_R + X*I_I,\n",
    "    V_i1 - V_iL - R * I_I - X*I_R,\n",
    "    V_rL*I_r1 + V_iL*I_i1 - P,\n",
    "    V_iL*I_r1 - V_rL*I_i1 - Q,\n",
    "    I_r2 - V_rL / R_L,\n",
    "    I_i2 - V_iL / R_L,\n",
    "    I_R - I_r1 - I_r2,\n",
    "    I_I - I_i1 - I_i2,    \n",
    "]"
   ]
  },
  {
   "cell_type": "code",
   "execution_count": null,
   "id": "424147c1-12c8-4a9d-b58e-979d3f7f36db",
   "metadata": {},
   "outputs": [],
   "source": [
    "aux = nonlinsolve(eqs3, varx)\n",
    "aux"
   ]
  },
  {
   "cell_type": "code",
   "execution_count": 91,
   "id": "4ddcc1d5-3916-4e57-837b-4727f26eff7e",
   "metadata": {},
   "outputs": [
    {
     "data": {
      "text/latex": [
       "$\\displaystyle 2.36602540378444$"
      ],
      "text/plain": [
       "2.36602540378444"
      ]
     },
     "execution_count": 91,
     "metadata": {},
     "output_type": "execute_result"
    }
   ],
   "source": [
    "aux.args[0][0].evalf(subs={R: 3, P: 0.5, I_R: 1, I_I: 0.0})"
   ]
  },
  {
   "cell_type": "code",
   "execution_count": 92,
   "id": "a077f94d-e57d-42cf-94a1-498c9ca9dd55",
   "metadata": {},
   "outputs": [
    {
     "data": {
      "text/latex": [
       "$\\displaystyle \\frac{I_{R} \\left(I_{I}^{2} R + I_{R}^{2} R + \\sqrt{R \\left(I_{I}^{4} R + 2 I_{I}^{2} I_{R}^{2} R - 4 I_{I}^{2} P + I_{R}^{4} R - 4 I_{R}^{2} P\\right)}\\right)}{2 \\left(I_{I}^{2} + I_{R}^{2}\\right)}$"
      ],
      "text/plain": [
       "I_R*(I_I**2*R + I_R**2*R + sqrt(R*(I_I**4*R + 2*I_I**2*I_R**2*R - 4*I_I**2*P + I_R**4*R - 4*I_R**2*P)))/(2*(I_I**2 + I_R**2))"
      ]
     },
     "execution_count": 92,
     "metadata": {},
     "output_type": "execute_result"
    }
   ],
   "source": [
    "aux.args[0][0]"
   ]
  },
  {
   "cell_type": "code",
   "execution_count": 121,
   "id": "7e1cfec8-20b8-41a8-8fff-e98c4e4f1577",
   "metadata": {},
   "outputs": [
    {
     "data": {
      "text/latex": [
       "$\\displaystyle \\frac{I_{I}^{2} I_{R} R - 2 I_{I} Q + I_{R}^{3} R + I_{R} \\sqrt{I_{I}^{4} R^{2} + 2 I_{I}^{2} I_{R}^{2} R^{2} - 4 I_{I}^{2} P R + I_{R}^{4} R^{2} - 4 I_{R}^{2} P R - 4 Q^{2}}}{2 \\left(I_{I}^{2} + I_{R}^{2}\\right)}$"
      ],
      "text/plain": [
       "(I_I**2*I_R*R - 2*I_I*Q + I_R**3*R + I_R*sqrt(I_I**4*R**2 + 2*I_I**2*I_R**2*R**2 - 4*I_I**2*P*R + I_R**4*R**2 - 4*I_R**2*P*R - 4*Q**2))/(2*(I_I**2 + I_R**2))"
      ]
     },
     "execution_count": 121,
     "metadata": {},
     "output_type": "execute_result"
    }
   ],
   "source": [
    "aux.args[0][0]"
   ]
  },
  {
   "cell_type": "code",
   "execution_count": 122,
   "id": "44216870-916a-48db-8cd8-aef631eab44f",
   "metadata": {},
   "outputs": [
    {
     "data": {
      "text/latex": [
       "$\\displaystyle 1.00498753117207$"
      ],
      "text/plain": [
       "1.00498753117207"
      ]
     },
     "execution_count": 122,
     "metadata": {},
     "output_type": "execute_result"
    }
   ],
   "source": [
    "aux.args[0][0].evalf(subs={R: 2, P: 0.5, I_R: 1, I_I: -0.05, Q: 0.05})"
   ]
  },
  {
   "cell_type": "code",
   "execution_count": 126,
   "id": "4a7e8d4a-84f1-492a-bb78-5930acfa3465",
   "metadata": {},
   "outputs": [
    {
     "data": {
      "text/latex": [
       "$\\displaystyle -0.000249376558603491$"
      ],
      "text/plain": [
       "-0.000249376558603491"
      ]
     },
     "execution_count": 126,
     "metadata": {},
     "output_type": "execute_result"
    }
   ],
   "source": [
    "aux.args[0][1].evalf(subs={R: 2, P: 0.5, I_R: 1, I_I: -0.05, Q: 0.05})"
   ]
  },
  {
   "cell_type": "code",
   "execution_count": 123,
   "id": "8cf97555-d9bd-4858-b31c-cc4bc8111c9d",
   "metadata": {},
   "outputs": [
    {
     "data": {
      "text/latex": [
       "$\\displaystyle \\frac{I_{I}^{2} I_{R} R - 2 I_{I} Q + I_{R}^{3} R - I_{R} \\sqrt{I_{I}^{4} R^{2} + 2 I_{I}^{2} I_{R}^{2} R^{2} - 4 I_{I}^{2} P R + I_{R}^{4} R^{2} - 4 I_{R}^{2} P R - 4 Q^{2}}}{2 \\left(I_{I}^{2} + I_{R}^{2}\\right)}$"
      ],
      "text/plain": [
       "(I_I**2*I_R*R - 2*I_I*Q + I_R**3*R - I_R*sqrt(I_I**4*R**2 + 2*I_I**2*I_R**2*R**2 - 4*I_I**2*P*R + I_R**4*R**2 - 4*I_R**2*P*R - 4*Q**2))/(2*(I_I**2 + I_R**2))"
      ]
     },
     "execution_count": 123,
     "metadata": {},
     "output_type": "execute_result"
    }
   ],
   "source": [
    "aux.args[1][0]"
   ]
  },
  {
   "cell_type": "code",
   "execution_count": 124,
   "id": "b7c9c536-245c-466a-a8f1-4d07c6b1cb97",
   "metadata": {},
   "outputs": [
    {
     "data": {
      "text/latex": [
       "$\\displaystyle 1.0$"
      ],
      "text/plain": [
       "1.00000000000000"
      ]
     },
     "execution_count": 124,
     "metadata": {},
     "output_type": "execute_result"
    }
   ],
   "source": [
    "aux.args[1][0].evalf(subs={R: 2, P: 0.5, I_R: 1, I_I: -0.05, Q: 0.05})"
   ]
  },
  {
   "cell_type": "code",
   "execution_count": 125,
   "id": "80a3c4c6-ef46-4d6d-9819-b079445c0e89",
   "metadata": {},
   "outputs": [
    {
     "data": {
      "text/latex": [
       "$\\displaystyle 1.0 \\cdot 10^{-143}$"
      ],
      "text/plain": [
       "0.e-143"
      ]
     },
     "execution_count": 125,
     "metadata": {},
     "output_type": "execute_result"
    }
   ],
   "source": [
    "aux.args[1][1].evalf(subs={R: 2, P: 0.5, I_R: 1, I_I: -0.05, Q: 0.05})"
   ]
  },
  {
   "cell_type": "code",
   "execution_count": 94,
   "id": "90d3986c-17c9-4e86-9525-dda1ee1bb5fe",
   "metadata": {},
   "outputs": [
    {
     "data": {
      "text/latex": [
       "$\\displaystyle \\frac{I_{R} \\left(I_{I}^{2} R + I_{R}^{2} R - \\sqrt{R \\left(I_{I}^{4} R + 2 I_{I}^{2} I_{R}^{2} R - 4 I_{I}^{2} P + I_{R}^{4} R - 4 I_{R}^{2} P\\right)}\\right)}{2 \\left(I_{I}^{2} + I_{R}^{2}\\right)}$"
      ],
      "text/plain": [
       "I_R*(I_I**2*R + I_R**2*R - sqrt(R*(I_I**4*R + 2*I_I**2*I_R**2*R - 4*I_I**2*P + I_R**4*R - 4*I_R**2*P)))/(2*(I_I**2 + I_R**2))"
      ]
     },
     "execution_count": 94,
     "metadata": {},
     "output_type": "execute_result"
    }
   ],
   "source": [
    "aux.args[1][0]"
   ]
  },
  {
   "cell_type": "code",
   "execution_count": 104,
   "id": "bc01c9dc-f6c4-4192-9489-8a5c69a548bc",
   "metadata": {},
   "outputs": [],
   "source": [
    "eqs = [\n",
    "    V_rL*I_R + V_iL*I_I - P,\n",
    "    V_iL*I_R - V_rL*I_I - Q\n",
    "]"
   ]
  },
  {
   "cell_type": "code",
   "execution_count": 105,
   "id": "b3b80629-cd7c-4568-b56c-dc37449c6663",
   "metadata": {},
   "outputs": [],
   "source": [
    "var3 = [I_R, I_I]"
   ]
  },
  {
   "cell_type": "code",
   "execution_count": 106,
   "id": "63e82acf-26c5-4c67-a63a-8bacd3a89f53",
   "metadata": {},
   "outputs": [],
   "source": [
    "solP = nonlinsolve(eqs, var3)"
   ]
  },
  {
   "cell_type": "code",
   "execution_count": 107,
   "id": "6d9af517-b721-44f7-96a7-db1cdb7f95fb",
   "metadata": {},
   "outputs": [
    {
     "data": {
      "text/latex": [
       "$\\displaystyle \\left\\{\\left( \\frac{P V_{rL} + Q V_{iL}}{V_{iL}^{2} + V_{rL}^{2}}, \\  \\frac{P V_{iL} - Q V_{rL}}{V_{iL}^{2} + V_{rL}^{2}}\\right)\\right\\}$"
      ],
      "text/plain": [
       "FiniteSet(((P*V_rL + Q*V_iL)/(V_iL**2 + V_rL**2), (P*V_iL - Q*V_rL)/(V_iL**2 + V_rL**2)))"
      ]
     },
     "execution_count": 107,
     "metadata": {},
     "output_type": "execute_result"
    }
   ],
   "source": [
    "solP"
   ]
  },
  {
   "cell_type": "code",
   "execution_count": 116,
   "id": "7ccca708-1ed1-41d8-b034-7bbb064f73a4",
   "metadata": {},
   "outputs": [
    {
     "data": {
      "text/latex": [
       "$\\displaystyle 0.5$"
      ],
      "text/plain": [
       "0.500000000000000"
      ]
     },
     "execution_count": 116,
     "metadata": {},
     "output_type": "execute_result"
    }
   ],
   "source": [
    "solP.args[0][0].evalf(subs = {V_rL: 1, V_iL: 0.0, P: 0.5, Q: 0.05})"
   ]
  },
  {
   "cell_type": "code",
   "execution_count": null,
   "id": "20d42ecd-3f04-454c-81f6-53a2783c9628",
   "metadata": {},
   "outputs": [],
   "source": []
  }
 ],
 "metadata": {
  "kernelspec": {
   "display_name": "Python 3",
   "language": "python",
   "name": "python3"
  },
  "language_info": {
   "codemirror_mode": {
    "name": "ipython",
    "version": 3
   },
   "file_extension": ".py",
   "mimetype": "text/x-python",
   "name": "python",
   "nbconvert_exporter": "python",
   "pygments_lexer": "ipython3",
   "version": "3.7.10"
  }
 },
 "nbformat": 4,
 "nbformat_minor": 5
}
