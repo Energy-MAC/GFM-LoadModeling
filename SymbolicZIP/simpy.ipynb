{
 "cells": [
  {
   "cell_type": "code",
   "execution_count": 2,
   "id": "f7844add-9c3f-4a19-884d-02b82bcc55ef",
   "metadata": {},
   "outputs": [],
   "source": [
    "from sympy import *"
   ]
  },
  {
   "cell_type": "markdown",
   "id": "27525baf-bedf-4c50-95a2-7160dc0bf847",
   "metadata": {},
   "source": [
    "## Constant Power Case"
   ]
  },
  {
   "cell_type": "code",
   "execution_count": 3,
   "id": "efb407c9-3cb1-4989-ae31-46e161653771",
   "metadata": {},
   "outputs": [],
   "source": [
    "# states constant P\n",
    "V_rL = symbols('V_rL')\n",
    "V_iL = symbols('V_iL')\n",
    "var = [V_rL, V_iL]"
   ]
  },
  {
   "cell_type": "code",
   "execution_count": 4,
   "id": "55c0c061-81d4-4531-8c91-8ffe52accb1b",
   "metadata": {},
   "outputs": [],
   "source": [
    "# params constant P\n",
    "P = symbols('P')\n",
    "Q = symbols('Q')\n",
    "I_R = symbols('I_R')\n",
    "I_I = symbols('I_I')"
   ]
  },
  {
   "cell_type": "code",
   "execution_count": 5,
   "id": "adc19dad-8e24-48d1-83ab-c875c0d1dd7f",
   "metadata": {},
   "outputs": [],
   "source": [
    "eqs = [\n",
    "    V_rL*I_R + V_iL*I_I - P,\n",
    "    V_iL*I_R - V_rL*I_I - Q\n",
    "]"
   ]
  },
  {
   "cell_type": "code",
   "execution_count": 6,
   "id": "680bfa5a-91e9-403c-bef6-94109df87bf2",
   "metadata": {},
   "outputs": [
    {
     "data": {
      "text/latex": [
       "$\\displaystyle \\left\\{\\left( - \\frac{I_{I} Q - I_{R} P}{I_{I}^{2} + I_{R}^{2}}, \\  \\frac{I_{I} P + I_{R} Q}{I_{I}^{2} + I_{R}^{2}}\\right)\\right\\}$"
      ],
      "text/plain": [
       "FiniteSet((-(I_I*Q - I_R*P)/(I_I**2 + I_R**2), (I_I*P + I_R*Q)/(I_I**2 + I_R**2)))"
      ]
     },
     "execution_count": 6,
     "metadata": {},
     "output_type": "execute_result"
    }
   ],
   "source": [
    "# Load Voltage Solution\n",
    "nonlinsolve(eqs, var)"
   ]
  },
  {
   "cell_type": "markdown",
   "id": "5308a4aa-5aae-4789-bec4-79c4bba8b9c9",
   "metadata": {},
   "source": [
    "## Constant Power + Resistor (no Reactive Power)"
   ]
  },
  {
   "cell_type": "code",
   "execution_count": 7,
   "id": "e299a22f-2740-4a1f-9219-2181759c691f",
   "metadata": {},
   "outputs": [],
   "source": [
    "# states\n",
    "I_r1 = symbols('I_r1')\n",
    "I_i1 = symbols('I_i1')\n",
    "I_r2 = symbols('I_r2')\n",
    "I_i2 = symbols('I_i2')\n",
    "var2 = [V_rL, V_iL, I_r1, I_i1, I_r2, I_i2]"
   ]
  },
  {
   "cell_type": "code",
   "execution_count": 8,
   "id": "7b0b83a7-b334-4a22-a057-ffb94a03f0a4",
   "metadata": {},
   "outputs": [],
   "source": [
    "# params\n",
    "R_L = symbols('R_L')\n",
    "X = symbols('X')\n",
    "V_r1 = symbols('V_r1')\n",
    "V_i1 = symbols('V_i1')"
   ]
  },
  {
   "cell_type": "code",
   "execution_count": 9,
   "id": "5fbe720c-b060-4525-a31f-453748b0ebb6",
   "metadata": {},
   "outputs": [],
   "source": [
    "# Params\n",
    "eqs2 = [\n",
    "    V_rL*I_r1 + V_iL*I_i1 - P,\n",
    "    V_iL*I_r1 - V_rL*I_i1 - 0,\n",
    "    I_r2 - V_rL / R_L,\n",
    "    I_i2 - V_iL / R_L,\n",
    "    I_R - I_r1 - I_r2,\n",
    "    I_I - I_i1 - I_i2,    \n",
    "]"
   ]
  },
  {
   "cell_type": "code",
   "execution_count": 10,
   "id": "84f20191-795c-449e-912c-fc241eb6d126",
   "metadata": {},
   "outputs": [],
   "source": [
    "aux = nonlinsolve(eqs2, var2)"
   ]
  },
  {
   "cell_type": "code",
   "execution_count": 12,
   "id": "6202d297-87e9-4267-bd3b-5e9575284396",
   "metadata": {},
   "outputs": [
    {
     "data": {
      "text/latex": [
       "$\\displaystyle \\left\\{\\left( \\frac{I_{R} \\left(I_{I}^{2} R_{L} + I_{R}^{2} R_{L} - \\sqrt{R_{L} \\left(I_{I}^{4} R_{L} + 2 I_{I}^{2} I_{R}^{2} R_{L} - 4 I_{I}^{2} P + I_{R}^{4} R_{L} - 4 I_{R}^{2} P\\right)}\\right)}{2 \\left(I_{I}^{2} + I_{R}^{2}\\right)}, \\  \\frac{I_{I} \\left(I_{I}^{2} R_{L} + I_{R}^{2} R_{L} - \\sqrt{R_{L} \\left(I_{I}^{4} R_{L} + 2 I_{I}^{2} I_{R}^{2} R_{L} - 4 I_{I}^{2} P + I_{R}^{4} R_{L} - 4 I_{R}^{2} P\\right)}\\right)}{2 \\left(I_{I}^{2} + I_{R}^{2}\\right)}, \\  \\frac{I_{R} \\left(I_{I}^{2} R_{L} + I_{R}^{2} R_{L} + \\sqrt{R_{L} \\left(I_{I}^{4} R_{L} + 2 I_{I}^{2} I_{R}^{2} R_{L} - 4 I_{I}^{2} P + I_{R}^{4} R_{L} - 4 I_{R}^{2} P\\right)}\\right)}{2 R_{L} \\left(I_{I}^{2} + I_{R}^{2}\\right)}, \\  \\frac{I_{I} \\left(I_{I}^{2} R_{L} + I_{R}^{2} R_{L} + \\sqrt{R_{L} \\left(I_{I}^{4} R_{L} + 2 I_{I}^{2} I_{R}^{2} R_{L} - 4 I_{I}^{2} P + I_{R}^{4} R_{L} - 4 I_{R}^{2} P\\right)}\\right)}{2 R_{L} \\left(I_{I}^{2} + I_{R}^{2}\\right)}, \\  \\frac{I_{R} \\left(I_{I}^{2} R_{L} + I_{R}^{2} R_{L} - \\sqrt{R_{L} \\left(I_{I}^{4} R_{L} + 2 I_{I}^{2} I_{R}^{2} R_{L} - 4 I_{I}^{2} P + I_{R}^{4} R_{L} - 4 I_{R}^{2} P\\right)}\\right)}{2 R_{L} \\left(I_{I}^{2} + I_{R}^{2}\\right)}, \\  \\frac{I_{I}}{2} - \\frac{I_{I} \\sqrt{R_{L} \\left(I_{I}^{2} + I_{R}^{2}\\right) \\left(I_{I}^{2} R_{L} + I_{R}^{2} R_{L} - 4 P\\right)}}{2 R_{L} \\left(I_{I}^{2} + I_{R}^{2}\\right)}\\right), \\left( \\frac{I_{R} \\left(I_{I}^{2} R_{L} + I_{R}^{2} R_{L} + \\sqrt{R_{L} \\left(I_{I}^{4} R_{L} + 2 I_{I}^{2} I_{R}^{2} R_{L} - 4 I_{I}^{2} P + I_{R}^{4} R_{L} - 4 I_{R}^{2} P\\right)}\\right)}{2 \\left(I_{I}^{2} + I_{R}^{2}\\right)}, \\  \\frac{I_{I} \\left(I_{I}^{2} R_{L} + I_{R}^{2} R_{L} + \\sqrt{R_{L} \\left(I_{I}^{4} R_{L} + 2 I_{I}^{2} I_{R}^{2} R_{L} - 4 I_{I}^{2} P + I_{R}^{4} R_{L} - 4 I_{R}^{2} P\\right)}\\right)}{2 \\left(I_{I}^{2} + I_{R}^{2}\\right)}, \\  \\frac{I_{R} \\left(I_{I}^{2} R_{L} + I_{R}^{2} R_{L} - \\sqrt{R_{L} \\left(I_{I}^{4} R_{L} + 2 I_{I}^{2} I_{R}^{2} R_{L} - 4 I_{I}^{2} P + I_{R}^{4} R_{L} - 4 I_{R}^{2} P\\right)}\\right)}{2 R_{L} \\left(I_{I}^{2} + I_{R}^{2}\\right)}, \\  \\frac{I_{I} \\left(I_{I}^{2} R_{L} + I_{R}^{2} R_{L} - \\sqrt{R_{L} \\left(I_{I}^{4} R_{L} + 2 I_{I}^{2} I_{R}^{2} R_{L} - 4 I_{I}^{2} P + I_{R}^{4} R_{L} - 4 I_{R}^{2} P\\right)}\\right)}{2 R_{L} \\left(I_{I}^{2} + I_{R}^{2}\\right)}, \\  \\frac{I_{R} \\left(I_{I}^{2} R_{L} + I_{R}^{2} R_{L} + \\sqrt{R_{L} \\left(I_{I}^{4} R_{L} + 2 I_{I}^{2} I_{R}^{2} R_{L} - 4 I_{I}^{2} P + I_{R}^{4} R_{L} - 4 I_{R}^{2} P\\right)}\\right)}{2 R_{L} \\left(I_{I}^{2} + I_{R}^{2}\\right)}, \\  \\frac{I_{I}}{2} + \\frac{I_{I} \\sqrt{R_{L} \\left(I_{I}^{2} + I_{R}^{2}\\right) \\left(I_{I}^{2} R_{L} + I_{R}^{2} R_{L} - 4 P\\right)}}{2 R_{L} \\left(I_{I}^{2} + I_{R}^{2}\\right)}\\right)\\right\\}$"
      ],
      "text/plain": [
       "FiniteSet((I_R*(I_I**2*R_L + I_R**2*R_L + sqrt(R_L*(I_I**4*R_L + 2*I_I**2*I_R**2*R_L - 4*I_I**2*P + I_R**4*R_L - 4*I_R**2*P)))/(2*(I_I**2 + I_R**2)), I_I*(I_I**2*R_L + I_R**2*R_L + sqrt(R_L*(I_I**4*R_L + 2*I_I**2*I_R**2*R_L - 4*I_I**2*P + I_R**4*R_L - 4*I_R**2*P)))/(2*(I_I**2 + I_R**2)), I_R*(I_I**2*R_L + I_R**2*R_L - sqrt(R_L*(I_I**4*R_L + 2*I_I**2*I_R**2*R_L - 4*I_I**2*P + I_R**4*R_L - 4*I_R**2*P)))/(2*R_L*(I_I**2 + I_R**2)), I_I*(I_I**2*R_L + I_R**2*R_L - sqrt(R_L*(I_I**4*R_L + 2*I_I**2*I_R**2*R_L - 4*I_I**2*P + I_R**4*R_L - 4*I_R**2*P)))/(2*R_L*(I_I**2 + I_R**2)), I_R*(I_I**2*R_L + I_R**2*R_L + sqrt(R_L*(I_I**4*R_L + 2*I_I**2*I_R**2*R_L - 4*I_I**2*P + I_R**4*R_L - 4*I_R**2*P)))/(2*R_L*(I_I**2 + I_R**2)), I_I/2 + I_I*sqrt(R_L*(I_I**2 + I_R**2)*(I_I**2*R_L + I_R**2*R_L - 4*P))/(2*R_L*(I_I**2 + I_R**2))), (I_R*(I_I**2*R_L + I_R**2*R_L - sqrt(R_L*(I_I**4*R_L + 2*I_I**2*I_R**2*R_L - 4*I_I**2*P + I_R**4*R_L - 4*I_R**2*P)))/(2*(I_I**2 + I_R**2)), I_I*(I_I**2*R_L + I_R**2*R_L - sqrt(R_L*(I_I**4*R_L + 2*I_I**2*I_R**2*R_L - 4*I_I**2*P + I_R**4*R_L - 4*I_R**2*P)))/(2*(I_I**2 + I_R**2)), I_R*(I_I**2*R_L + I_R**2*R_L + sqrt(R_L*(I_I**4*R_L + 2*I_I**2*I_R**2*R_L - 4*I_I**2*P + I_R**4*R_L - 4*I_R**2*P)))/(2*R_L*(I_I**2 + I_R**2)), I_I*(I_I**2*R_L + I_R**2*R_L + sqrt(R_L*(I_I**4*R_L + 2*I_I**2*I_R**2*R_L - 4*I_I**2*P + I_R**4*R_L - 4*I_R**2*P)))/(2*R_L*(I_I**2 + I_R**2)), I_R*(I_I**2*R_L + I_R**2*R_L - sqrt(R_L*(I_I**4*R_L + 2*I_I**2*I_R**2*R_L - 4*I_I**2*P + I_R**4*R_L - 4*I_R**2*P)))/(2*R_L*(I_I**2 + I_R**2)), I_I/2 - I_I*sqrt(R_L*(I_I**2 + I_R**2)*(I_I**2*R_L + I_R**2*R_L - 4*P))/(2*R_L*(I_I**2 + I_R**2))))"
      ]
     },
     "execution_count": 12,
     "metadata": {},
     "output_type": "execute_result"
    }
   ],
   "source": [
    "# Solution of Load Voltage + Current flowing through CPL and Resistor\n",
    "aux"
   ]
  },
  {
   "cell_type": "code",
   "execution_count": 13,
   "id": "b839dd42-4043-4f44-a03b-32b0d8b4b14c",
   "metadata": {},
   "outputs": [
    {
     "data": {
      "text/latex": [
       "$\\displaystyle \\frac{I_{R} \\left(I_{I}^{2} R_{L} + I_{R}^{2} R_{L} - \\sqrt{R_{L} \\left(I_{I}^{4} R_{L} + 2 I_{I}^{2} I_{R}^{2} R_{L} - 4 I_{I}^{2} P + I_{R}^{4} R_{L} - 4 I_{R}^{2} P\\right)}\\right)}{2 \\left(I_{I}^{2} + I_{R}^{2}\\right)}$"
      ],
      "text/plain": [
       "I_R*(I_I**2*R_L + I_R**2*R_L - sqrt(R_L*(I_I**4*R_L + 2*I_I**2*I_R**2*R_L - 4*I_I**2*P + I_R**4*R_L - 4*I_R**2*P)))/(2*(I_I**2 + I_R**2))"
      ]
     },
     "execution_count": 13,
     "metadata": {},
     "output_type": "execute_result"
    }
   ],
   "source": [
    "# Solution 1: Real Voltage\n",
    "Vr_expr1 = aux.args[1][0]\n",
    "Vr_expr1"
   ]
  },
  {
   "cell_type": "code",
   "execution_count": 14,
   "id": "33b8201b-aa7c-44f6-bfd8-d36dbd05be0c",
   "metadata": {},
   "outputs": [
    {
     "data": {
      "text/latex": [
       "$\\displaystyle \\frac{I_{I} \\left(I_{I}^{2} R_{L} + I_{R}^{2} R_{L} - \\sqrt{R_{L} \\left(I_{I}^{4} R_{L} + 2 I_{I}^{2} I_{R}^{2} R_{L} - 4 I_{I}^{2} P + I_{R}^{4} R_{L} - 4 I_{R}^{2} P\\right)}\\right)}{2 \\left(I_{I}^{2} + I_{R}^{2}\\right)}$"
      ],
      "text/plain": [
       "I_I*(I_I**2*R_L + I_R**2*R_L - sqrt(R_L*(I_I**4*R_L + 2*I_I**2*I_R**2*R_L - 4*I_I**2*P + I_R**4*R_L - 4*I_R**2*P)))/(2*(I_I**2 + I_R**2))"
      ]
     },
     "execution_count": 14,
     "metadata": {},
     "output_type": "execute_result"
    }
   ],
   "source": [
    "# Solution 1: Imaginary Voltage\n",
    "Vi_expr1 = aux.args[1][1]\n",
    "Vi_expr1"
   ]
  },
  {
   "cell_type": "code",
   "execution_count": 15,
   "id": "97fc1cdb-627d-4687-828e-5e2f7c5ca4b7",
   "metadata": {},
   "outputs": [
    {
     "data": {
      "text/latex": [
       "$\\displaystyle \\frac{I_{R} \\left(I_{I}^{2} R_{L} + I_{R}^{2} R_{L} + \\sqrt{R_{L} \\left(I_{I}^{4} R_{L} + 2 I_{I}^{2} I_{R}^{2} R_{L} - 4 I_{I}^{2} P + I_{R}^{4} R_{L} - 4 I_{R}^{2} P\\right)}\\right)}{2 \\left(I_{I}^{2} + I_{R}^{2}\\right)}$"
      ],
      "text/plain": [
       "I_R*(I_I**2*R_L + I_R**2*R_L + sqrt(R_L*(I_I**4*R_L + 2*I_I**2*I_R**2*R_L - 4*I_I**2*P + I_R**4*R_L - 4*I_R**2*P)))/(2*(I_I**2 + I_R**2))"
      ]
     },
     "execution_count": 15,
     "metadata": {},
     "output_type": "execute_result"
    }
   ],
   "source": [
    "# Solution 2: Real Voltage\n",
    "Vr_expr2 = aux.args[0][0]\n",
    "Vr_expr2"
   ]
  },
  {
   "cell_type": "code",
   "execution_count": 16,
   "id": "48e9604e-f0f1-4964-97df-2bda5b8b84be",
   "metadata": {},
   "outputs": [
    {
     "data": {
      "text/latex": [
       "$\\displaystyle \\frac{I_{I} \\left(I_{I}^{2} R_{L} + I_{R}^{2} R_{L} + \\sqrt{R_{L} \\left(I_{I}^{4} R_{L} + 2 I_{I}^{2} I_{R}^{2} R_{L} - 4 I_{I}^{2} P + I_{R}^{4} R_{L} - 4 I_{R}^{2} P\\right)}\\right)}{2 \\left(I_{I}^{2} + I_{R}^{2}\\right)}$"
      ],
      "text/plain": [
       "I_I*(I_I**2*R_L + I_R**2*R_L + sqrt(R_L*(I_I**4*R_L + 2*I_I**2*I_R**2*R_L - 4*I_I**2*P + I_R**4*R_L - 4*I_R**2*P)))/(2*(I_I**2 + I_R**2))"
      ]
     },
     "execution_count": 16,
     "metadata": {},
     "output_type": "execute_result"
    }
   ],
   "source": [
    "# Solution 2: Imaginary Voltage\n",
    "Vi_expr2 = aux.args[0][1]\n",
    "Vi_expr2"
   ]
  },
  {
   "cell_type": "markdown",
   "id": "fd1bc2ad-924d-4756-824e-4452a1e95602",
   "metadata": {},
   "source": [
    "### Jacobian of Line Current"
   ]
  },
  {
   "cell_type": "code",
   "execution_count": 17,
   "id": "fefe3397-88d3-456e-a24d-c14354a28284",
   "metadata": {},
   "outputs": [],
   "source": [
    "R = symbols('R')\n",
    "X = symbols('X')"
   ]
  },
  {
   "cell_type": "code",
   "execution_count": 18,
   "id": "d0889bf9-b02f-4f6e-b627-e6496e0c42b7",
   "metadata": {},
   "outputs": [],
   "source": [
    "dIr_dt1 = V_r1 - Vr_expr1 - R * I_R + X*I_I\n",
    "dIi_dt1 = V_i1 - Vi_expr1 - R * I_I - X*I_R\n",
    "dIr_dt2 = V_r1 - Vr_expr2 - R * I_R + X*I_I\n",
    "dIi_dt2 = V_i1 - Vi_expr2 - R * I_I - X*I_R"
   ]
  },
  {
   "cell_type": "code",
   "execution_count": 19,
   "id": "4e9e72fc-0665-406b-bf91-3dea27cae293",
   "metadata": {},
   "outputs": [],
   "source": [
    "A11 = diff(dIr_dt1, I_R)\n",
    "A12 = diff(dIr_dt1, I_I)\n",
    "A21 = diff(dIi_dt1, I_R)\n",
    "A22 = diff(dIi_dt1, I_I)"
   ]
  },
  {
   "cell_type": "code",
   "execution_count": 20,
   "id": "60046568-5904-487b-8da8-26865bc14c73",
   "metadata": {},
   "outputs": [
    {
     "data": {
      "text/latex": [
       "$\\displaystyle \\frac{I_{R}^{2} \\left(I_{I}^{2} R_{L} + I_{R}^{2} R_{L} - \\sqrt{R_{L} \\left(I_{I}^{4} R_{L} + 2 I_{I}^{2} I_{R}^{2} R_{L} - 4 I_{I}^{2} P + I_{R}^{4} R_{L} - 4 I_{R}^{2} P\\right)}\\right)}{\\left(I_{I}^{2} + I_{R}^{2}\\right)^{2}} - \\frac{I_{R} \\left(2 I_{R} R_{L} - \\frac{\\sqrt{R_{L} \\left(I_{I}^{4} R_{L} + 2 I_{I}^{2} I_{R}^{2} R_{L} - 4 I_{I}^{2} P + I_{R}^{4} R_{L} - 4 I_{R}^{2} P\\right)} \\left(4 I_{I}^{2} I_{R} R_{L} + 4 I_{R}^{3} R_{L} - 8 I_{R} P\\right)}{2 \\left(I_{I}^{4} R_{L} + 2 I_{I}^{2} I_{R}^{2} R_{L} - 4 I_{I}^{2} P + I_{R}^{4} R_{L} - 4 I_{R}^{2} P\\right)}\\right)}{2 \\left(I_{I}^{2} + I_{R}^{2}\\right)} - R - \\frac{I_{I}^{2} R_{L} + I_{R}^{2} R_{L} - \\sqrt{R_{L} \\left(I_{I}^{4} R_{L} + 2 I_{I}^{2} I_{R}^{2} R_{L} - 4 I_{I}^{2} P + I_{R}^{4} R_{L} - 4 I_{R}^{2} P\\right)}}{2 \\left(I_{I}^{2} + I_{R}^{2}\\right)}$"
      ],
      "text/plain": [
       "I_R**2*(I_I**2*R_L + I_R**2*R_L - sqrt(R_L*(I_I**4*R_L + 2*I_I**2*I_R**2*R_L - 4*I_I**2*P + I_R**4*R_L - 4*I_R**2*P)))/(I_I**2 + I_R**2)**2 - I_R*(2*I_R*R_L - sqrt(R_L*(I_I**4*R_L + 2*I_I**2*I_R**2*R_L - 4*I_I**2*P + I_R**4*R_L - 4*I_R**2*P))*(4*I_I**2*I_R*R_L + 4*I_R**3*R_L - 8*I_R*P)/(2*(I_I**4*R_L + 2*I_I**2*I_R**2*R_L - 4*I_I**2*P + I_R**4*R_L - 4*I_R**2*P)))/(2*(I_I**2 + I_R**2)) - R - (I_I**2*R_L + I_R**2*R_L - sqrt(R_L*(I_I**4*R_L + 2*I_I**2*I_R**2*R_L - 4*I_I**2*P + I_R**4*R_L - 4*I_R**2*P)))/(2*(I_I**2 + I_R**2))"
      ]
     },
     "execution_count": 20,
     "metadata": {},
     "output_type": "execute_result"
    }
   ],
   "source": [
    "A11"
   ]
  },
  {
   "cell_type": "markdown",
   "id": "b3badcaa-70f6-4abc-ac1a-f925e21881fa",
   "metadata": {},
   "source": [
    "Complicated expresions do not yield simple analyses to characterize stability"
   ]
  },
  {
   "cell_type": "markdown",
   "id": "ec43f12f-5343-42be-bec0-28ee24d6641e",
   "metadata": {},
   "source": [
    "# Paper Example Case"
   ]
  },
  {
   "cell_type": "code",
   "execution_count": 21,
   "id": "e1028167-0b54-4c0d-a7ad-4e50b80c3ecf",
   "metadata": {},
   "outputs": [],
   "source": [
    "from scipy.optimize import fsolve\n",
    "from numpy import linspace, savetxt\n",
    "from numpy import real"
   ]
  },
  {
   "cell_type": "code",
   "execution_count": 23,
   "id": "d375ff37-1d44-46f1-aa5c-1bde5559881b",
   "metadata": {},
   "outputs": [],
   "source": [
    "# Define Variables\n",
    "varx = [I_R, I_I, V_rL, V_iL, I_r1, I_i1, I_r2, I_i2]"
   ]
  },
  {
   "cell_type": "code",
   "execution_count": 25,
   "id": "1a33ec4e-8dc2-48ba-97e6-4818d9fc1476",
   "metadata": {},
   "outputs": [],
   "source": [
    "# Construct parameters eta to sweep Eigenvalues\n",
    "eta = linspace(0.02, 0.98, num=70)\n",
    "eta_precision = linspace(eta[34],eta[35], num=50)\n",
    "eta_final = [*eta[0:34], *eta_precision, *eta[36:]]\n",
    "eta = eta_final"
   ]
  },
  {
   "cell_type": "code",
   "execution_count": 27,
   "id": "6aa7beb9-ee82-4389-b9ab-3d6c2e9d46f9",
   "metadata": {},
   "outputs": [],
   "source": [
    "# Equations\n",
    "eqs3 = [\n",
    "    V_r1 - V_rL - R * I_R + X*I_I,\n",
    "    V_i1 - V_iL - R * I_I - X*I_R,\n",
    "    V_rL*I_r1 + V_iL*I_i1 - P,\n",
    "    V_iL*I_r1 - V_rL*I_i1 - Q,\n",
    "    I_r2 - V_rL / R_L,\n",
    "    I_i2 - V_iL / R_L,\n",
    "    I_R - I_r1 - I_r2,\n",
    "    I_I - I_i1 - I_i2,    \n",
    "]"
   ]
  },
  {
   "cell_type": "markdown",
   "id": "b65c1715-6c06-436b-b47c-2d50f752aaee",
   "metadata": {},
   "source": [
    "Construct Jacobian of Algebraic and Differential Parts"
   ]
  },
  {
   "cell_type": "code",
   "execution_count": 30,
   "id": "e6b1f882-9c6a-4613-a40e-99c75ece4668",
   "metadata": {},
   "outputs": [],
   "source": [
    "F = Matrix(eqs3)"
   ]
  },
  {
   "cell_type": "code",
   "execution_count": 31,
   "id": "688076c4-2977-462d-8dba-51c6dafcbe01",
   "metadata": {},
   "outputs": [
    {
     "data": {
      "text/latex": [
       "$\\displaystyle \\left[\\begin{matrix}- R & X & -1 & 0 & 0 & 0 & 0 & 0\\\\- X & - R & 0 & -1 & 0 & 0 & 0 & 0\\\\0 & 0 & I_{r1} & I_{i1} & V_{rL} & V_{iL} & 0 & 0\\\\0 & 0 & - I_{i1} & I_{r1} & V_{iL} & - V_{rL} & 0 & 0\\\\0 & 0 & - \\frac{1}{R_{L}} & 0 & 0 & 0 & 1 & 0\\\\0 & 0 & 0 & - \\frac{1}{R_{L}} & 0 & 0 & 0 & 1\\\\1 & 0 & 0 & 0 & -1 & 0 & -1 & 0\\\\0 & 1 & 0 & 0 & 0 & -1 & 0 & -1\\end{matrix}\\right]$"
      ],
      "text/plain": [
       "Matrix([\n",
       "[-R,  X,     -1,      0,    0,     0,  0,  0],\n",
       "[-X, -R,      0,     -1,    0,     0,  0,  0],\n",
       "[ 0,  0,   I_r1,   I_i1, V_rL,  V_iL,  0,  0],\n",
       "[ 0,  0,  -I_i1,   I_r1, V_iL, -V_rL,  0,  0],\n",
       "[ 0,  0, -1/R_L,      0,    0,     0,  1,  0],\n",
       "[ 0,  0,      0, -1/R_L,    0,     0,  0,  1],\n",
       "[ 1,  0,      0,      0,   -1,     0, -1,  0],\n",
       "[ 0,  1,      0,      0,    0,    -1,  0, -1]])"
      ]
     },
     "execution_count": 31,
     "metadata": {},
     "output_type": "execute_result"
    }
   ],
   "source": [
    "F = Matrix(eqs3)\n",
    "FJac = F.jacobian(varx)\n",
    "FJac"
   ]
  },
  {
   "cell_type": "code",
   "execution_count": 32,
   "id": "5f81c75f-8e79-4165-bd99-7c80411b9027",
   "metadata": {},
   "outputs": [],
   "source": [
    "fx = FJac[0:2,0:2]\n",
    "fy = FJac[0:2, 2:8]\n",
    "gx = FJac[2:8, 0:2]\n",
    "gy = FJac[2:8, 2:8]"
   ]
  },
  {
   "cell_type": "code",
   "execution_count": 33,
   "id": "d100554d-f2a9-49d1-9536-9d5b047a9963",
   "metadata": {},
   "outputs": [],
   "source": [
    "aux = gy.det()"
   ]
  },
  {
   "cell_type": "code",
   "execution_count": 35,
   "id": "bc153d39-5000-46d4-b6ac-21d83ef64daa",
   "metadata": {},
   "outputs": [
    {
     "data": {
      "text/latex": [
       "$\\displaystyle \\frac{I_{i1}^{2} R_{L}^{2} + I_{r1}^{2} R_{L}^{2} - V_{iL}^{2} - V_{rL}^{2}}{R_{L}^{2}}$"
      ],
      "text/plain": [
       "(I_i1**2*R_L**2 + I_r1**2*R_L**2 - V_iL**2 - V_rL**2)/R_L**2"
      ]
     },
     "execution_count": 35,
     "metadata": {},
     "output_type": "execute_result"
    }
   ],
   "source": [
    "# Determinant of gy: |I_CPL|^2 - |I_RL|^2\n",
    "aux"
   ]
  },
  {
   "cell_type": "code",
   "execution_count": 37,
   "id": "1b674447-172a-41a5-a1ef-f232e7f3c3f1",
   "metadata": {},
   "outputs": [],
   "source": [
    "# Replace Parameters\n",
    "R = 0.01\n",
    "X = 0.1\n",
    "V_r1 = 1.0\n",
    "V_i1 = 0.0\n",
    "P = 0.5\n",
    "Q = 0.05"
   ]
  },
  {
   "cell_type": "code",
   "execution_count": 38,
   "id": "73c1281d-a50f-4bc1-abec-e5db8ba15b24",
   "metadata": {},
   "outputs": [],
   "source": [
    "def pflow(x):\n",
    "    I_R = x[0]\n",
    "    I_I = x[1]\n",
    "    V_rL = x[2]\n",
    "    V_iL = x[3]\n",
    "    return [V_r1 - V_rL - R * I_R + X*I_I,\n",
    "            V_i1 - V_iL - R * I_I - X*I_R,\n",
    "            V_rL*I_R + V_iL*I_I - 1,\n",
    "            V_iL*I_R - V_rL*I_I - 0]"
   ]
  },
  {
   "cell_type": "code",
   "execution_count": 40,
   "id": "8fa24068-c28f-45b4-ae0d-029060094f20",
   "metadata": {},
   "outputs": [
    {
     "data": {
      "text/latex": [
       "$\\displaystyle 0.98467413509814$"
      ],
      "text/plain": [
       "0.984674135098140"
      ]
     },
     "execution_count": 40,
     "metadata": {},
     "output_type": "execute_result"
    }
   ],
   "source": [
    "# Solve Power Flow without R_L and CPL = 1 pu\n",
    "x = fsolve(pflow, [1.0, 0.0, 1.0, 0.0])\n",
    "V0 = sqrt(x[2]**2 + x[3]**2)\n",
    "V0"
   ]
  },
  {
   "cell_type": "code",
   "execution_count": 42,
   "id": "74837548-7b5c-4267-83e7-41883c334a65",
   "metadata": {},
   "outputs": [
    {
     "name": "stdout",
     "output_type": "stream",
     "text": [
      "0.02\n",
      "0.033913043478260865\n",
      "0.04782608695652174\n",
      "0.0617391304347826\n",
      "0.07565217391304348\n",
      "0.08956521739130434\n",
      "0.10347826086956521\n",
      "0.11739130434782609\n",
      "0.13130434782608694\n",
      "0.1452173913043478\n",
      "0.15913043478260866\n",
      "0.17304347826086955\n",
      "0.1869565217391304\n",
      "0.20086956521739127\n",
      "0.21478260869565216\n",
      "0.22869565217391302\n",
      "0.24260869565217388\n",
      "0.25652173913043474\n",
      "0.27043478260869563\n",
      "0.2843478260869565\n",
      "0.29826086956521736\n",
      "0.31217391304347825\n",
      "0.32608695652173914\n",
      "0.33999999999999997\n",
      "0.35391304347826086\n",
      "0.36782608695652175\n",
      "0.3817391304347826\n",
      "0.39565217391304347\n",
      "0.40956521739130436\n",
      "0.4234782608695652\n",
      "0.4373913043478261\n",
      "0.4513043478260869\n",
      "0.4652173913043478\n",
      "0.4791304347826087\n",
      "0.4930434782608695\n",
      "0.49332741792369117\n",
      "0.4936113575865128\n",
      "0.49389529724933445\n",
      "0.49417923691215615\n",
      "0.4944631765749778\n",
      "0.49474711623779943\n",
      "0.4950310559006211\n",
      "0.4953149955634427\n",
      "0.49559893522626436\n",
      "0.49588287488908606\n",
      "0.4961668145519077\n",
      "0.49645075421472934\n",
      "0.496734693877551\n",
      "0.4970186335403726\n",
      "0.49730257320319426\n",
      "0.49758651286601596\n",
      "0.4978704525288376\n",
      "0.49815439219165925\n",
      "0.4984383318544809\n",
      "0.49872227151730253\n",
      "0.49900621118012417\n",
      "0.49929015084294587\n",
      "0.4995740905057675\n",
      "0.49985803016858915\n",
      "0.5001419698314108\n",
      "0.5004259094942325\n",
      "0.5007098491570541\n",
      "0.5009937888198758\n",
      "0.5012777284826974\n",
      "0.5015616681455191\n",
      "0.5018456078083408\n",
      "0.5021295474711623\n",
      "0.502413487133984\n",
      "0.5026974267968056\n",
      "0.5029813664596273\n",
      "0.5032653061224489\n",
      "0.5035492457852706\n",
      "0.5038331854480923\n",
      "0.5041171251109139\n",
      "0.5044010647737356\n",
      "0.5046850044365572\n",
      "0.5049689440993789\n",
      "0.5052528837622006\n",
      "0.5055368234250222\n",
      "0.5058207630878438\n",
      "0.5061047027506654\n",
      "0.5063886424134871\n",
      "0.5066725820763087\n",
      "0.5069565217391304\n",
      "0.5208695652173913\n",
      "0.5347826086956522\n",
      "0.548695652173913\n",
      "0.5626086956521739\n",
      "0.5765217391304347\n",
      "0.5904347826086956\n",
      "0.6043478260869565\n",
      "0.6182608695652173\n",
      "0.6321739130434783\n",
      "0.6460869565217391\n",
      "0.6599999999999999\n",
      "0.6739130434782609\n",
      "0.6878260869565217\n",
      "0.7017391304347825\n",
      "0.7156521739130435\n",
      "0.7295652173913043\n",
      "0.7434782608695651\n",
      "0.7573913043478261\n",
      "0.7713043478260869\n",
      "0.7852173913043478\n",
      "0.7991304347826087\n",
      "0.8130434782608695\n",
      "0.8269565217391304\n",
      "0.8408695652173912\n",
      "0.8547826086956521\n",
      "0.868695652173913\n",
      "0.8826086956521738\n",
      "0.8965217391304348\n",
      "0.9104347826086956\n",
      "0.9243478260869564\n",
      "0.9382608695652174\n",
      "0.9521739130434782\n",
      "0.966086956521739\n",
      "0.98\n"
     ]
    }
   ],
   "source": [
    "# Sweep through eta to vary proportion of CPL and R_L\n",
    "Vmag = []\n",
    "eigs = []\n",
    "P_cpl = []\n",
    "R_list = []\n",
    "gy_dets = []\n",
    "for k in eta:\n",
    "    P = 1.0*k\n",
    "    Q = 0.0\n",
    "    R_L = (V0**2)/(1-P)\n",
    "    eqs3 = [\n",
    "        V_r1 - V_rL - R * I_R + X*I_I,\n",
    "        V_i1 - V_iL - R * I_I - X*I_R,\n",
    "        V_rL*I_r1 + V_iL*I_i1 - P,\n",
    "        V_iL*I_r1 - V_rL*I_i1 - Q,\n",
    "        I_r2 - V_rL / R_L,\n",
    "        I_i2 - V_iL / R_L,\n",
    "        I_R - I_r1 - I_r2,\n",
    "        I_I - I_i1 - I_i2,    \n",
    "    ]\n",
    "    F = Matrix(eqs3)\n",
    "    FJac = F.jacobian(varx)\n",
    "    fx = FJac[0:2,0:2]\n",
    "    fy = FJac[0:2, 2:8]\n",
    "    gx = FJac[2:8, 0:2]\n",
    "    gy = FJac[2:8, 2:8]\n",
    "    def f(x):\n",
    "        I_R = x[0]\n",
    "        I_I = x[1]\n",
    "        V_rL = x[2]\n",
    "        V_iL = x[3]\n",
    "        I_r1 = x[4]\n",
    "        I_i1 = x[5]\n",
    "        I_r2 = x[6]\n",
    "        I_i2 = x[7]\n",
    "        return [V_r1 - V_rL - R * I_R + X*I_I,\n",
    "                V_i1 - V_iL - R * I_I - X*I_R,\n",
    "                V_rL*I_r1 + V_iL*I_i1 - P,\n",
    "                V_iL*I_r1 - V_rL*I_i1 - Q,\n",
    "                I_r2 - V_rL / R_L,\n",
    "                I_i2 - V_iL / R_L,\n",
    "                I_R - I_r1 - I_r2,\n",
    "                I_I - I_i1 - I_i2]\n",
    "    x0 = [1.0, 0.1,1.0,-0.1,0.5,-0.05,0.5,-0.05]\n",
    "    x = fsolve(f, x0)\n",
    "    I_R1 = x[0]\n",
    "    I_I1 = x[1]\n",
    "    V_rL1 = x[2]\n",
    "    V_iL1 = x[3]\n",
    "    I_r11 = x[4]\n",
    "    I_i11 = x[5]\n",
    "    I_r21 = x[6]\n",
    "    I_i21 = x[7]\n",
    "    Vabs = sqrt(V_rL1**2+V_iL1**2)\n",
    "    Vmag.append(Vabs)\n",
    "    R_list.append(R_L)\n",
    "    P_cpl.append(P)\n",
    "    gy_eval = gy.evalf(subs={I_r1: I_r11, I_i1:I_i11, V_rL: V_rL1, V_iL: V_iL1})\n",
    "    gy_dets.append(gy_eval.det())\n",
    "    print(k)\n",
    "    Jred = fx - fy @ gy_eval.inv() @ gx\n",
    "    eigvals = []\n",
    "    for k in Jred.eigenvals():\n",
    "        eigvals.append(k)\n",
    "    eigs.append(eigvals)    "
   ]
  },
  {
   "cell_type": "code",
   "execution_count": 186,
   "id": "c0904912-3c54-40e7-ac1d-e5e0348b471e",
   "metadata": {},
   "outputs": [],
   "source": [
    "#for (ix, k) in enumerate(P_cpl):\n",
    "#    print(k + Vmag[ix]**2/R_list[ix])"
   ]
  },
  {
   "cell_type": "code",
   "execution_count": 43,
   "id": "b6766abf-6b2e-4853-b0e3-4493a3c9618f",
   "metadata": {},
   "outputs": [],
   "source": [
    "re_eig1 = []\n",
    "im_eig1 = []\n",
    "re_eig2 = []\n",
    "im_eig2 = []\n",
    "for (ix,k) in enumerate(eigs):\n",
    "    #print(ix)\n",
    "    #print(k)\n",
    "    re_eig1.append(re(k[0]))\n",
    "    im_eig1.append(im(k[0]))\n",
    "    re_eig2.append(re(k[1]))\n",
    "    im_eig2.append(im(k[1]))\n",
    "    #print(gy_dets[ix])\n",
    "    #print(eta[ix])"
   ]
  },
  {
   "cell_type": "code",
   "execution_count": 44,
   "id": "cd83008d-6522-4cd2-954f-8076b2a3ff45",
   "metadata": {},
   "outputs": [],
   "source": [
    "import matplotlib.pyplot as plt"
   ]
  },
  {
   "cell_type": "code",
   "execution_count": 47,
   "id": "734cc63d-2e54-46f6-a4b1-8cc7ba85dbe2",
   "metadata": {},
   "outputs": [
    {
     "data": {
      "image/png": "[encoded data removed]",
      "text/plain": [
       "<Figure size 432x288 with 1 Axes>"
      ]
     },
     "metadata": {
      "needs_background": "light"
     },
     "output_type": "display_data"
    }
   ],
   "source": [
    "# Plot Eigenvalue 1\n",
    "plt.scatter(re_eig1, im_eig1)\n",
    "plt.xlim(-5,5)\n",
    "plt.ylim(-0.1, 0.01)\n",
    "plt.xlabel(\"Re[Lambda]\")\n",
    "plt.ylabel(\"Im[Lambda]\");"
   ]
  },
  {
   "cell_type": "code",
   "execution_count": 48,
   "id": "d24d8206-f0e2-4df5-bb96-8880508bb458",
   "metadata": {},
   "outputs": [
    {
     "data": {
      "image/png": "[encoded data removed]",
      "text/plain": [
       "<Figure size 432x288 with 1 Axes>"
      ]
     },
     "metadata": {
      "needs_background": "light"
     },
     "output_type": "display_data"
    }
   ],
   "source": [
    "# Plot Eigenvalue 2\n",
    "plt.scatter(re_eig2, im_eig2)\n",
    "plt.xlabel(\"Re[Lambda]\")\n",
    "plt.ylabel(\"Im[Lambda]\");"
   ]
  },
  {
   "cell_type": "code",
   "execution_count": 49,
   "id": "d61769c3-9834-4bd3-aaee-f6d49ebfc97a",
   "metadata": {},
   "outputs": [],
   "source": [
    "# Save Eigenvalues\n",
    "import pandas as pd"
   ]
  },
  {
   "cell_type": "code",
   "execution_count": 200,
   "id": "da2e17fb-9713-4beb-a905-147c7a2d1ac8",
   "metadata": {},
   "outputs": [],
   "source": [
    "df = pd.DataFrame(list(zip(re_eig1, im_eig1)))\n",
    "df.to_csv('data.csv', index=False)"
   ]
  }
 ],
 "metadata": {
  "kernelspec": {
   "display_name": "Python 3",
   "language": "python",
   "name": "python3"
  },
  "language_info": {
   "codemirror_mode": {
    "name": "ipython",
    "version": 3
   },
   "file_extension": ".py",
   "mimetype": "text/x-python",
   "name": "python",
   "nbconvert_exporter": "python",
   "pygments_lexer": "ipython3",
   "version": "3.7.10"
  }
 },
 "nbformat": 4,
 "nbformat_minor": 5
}
